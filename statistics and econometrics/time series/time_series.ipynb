{
 "cells": [
  {
   "cell_type": "markdown",
   "metadata": {},
   "source": [
    "# Time Series\n",
    "\n",
    "*Tuesday, September 24*"
   ]
  },
  {
   "cell_type": "markdown",
   "metadata": {},
   "source": [
    "This Notebook walks us through the tools we need to analyse time series in Python. We will cover MA, AR and ARMA processes, covariance stationarity, smoothing and filtering, martingales and predictions of time-series.\n",
    "Some familiarity with time-series is required.\n",
    "\n",
    "### Content\n",
    "\n",
    "- [1. Short introduction to properties of time-series](#1.-Short-introduction-to-properties-of-time-series)\n",
    "\n"
   ]
  },
  {
   "cell_type": "markdown",
   "metadata": {},
   "source": [
    "### 1. Short introduction to time-series\n",
    "\n",
    "#### 1.1. Covariance stationarity and stationarity\n",
    "\n",
    "A time series is a series of data points indexed by time. Formally, it is a sequence of random variables ${X_t}$, where $t \\in \\mathbb N$ or $t \\in \\mathbb Z$, and $X_t \\in \\mathbb R, \\forall t$. A time series is said to be covariance stationary if:\n",
    "* its mean is constant across times/does not depend on $t$: $\\mathbb E [X_t] = \\mu \\quad \\forall t$\n",
    "* its variance is constant in each time $t$: $ \\mathrm{Var}[X_t] = \\sigma^2 \\quad$\n",
    "* its autocovariance is finite and constant for two random variables equally spaced in time: $\\mathrm{cov}(X_t, X_{t+k}) = \\mathrm{cov}(X_{t+n}, X_{t+n+k})$\n",
    "\n",
    "Developping a formal understanding of time-series is an essential step before moving on to forecasts of the series.\n",
    "\n",
    "#### 1.2. Examples\n",
    "\n",
    "White noise is a stationary process. White noise is a random signal with equal intensity at all frequencies. It is defined as  a random process with mean zero, constant variance and 0 auto-covariance. $$X_t = \\epsilon_t$$ with $$\\epsilon_t \\sim \\mathcal{N}(0, \\sigma^2)$$ is a white noise process for instance. Moving Average (MA) processes are defined as sums of white noise processes with finite coefficients: *e.g.* $$Y_t = \\sum_{k=0}^{K} \\beta_k \\epsilon_{t-k}$$ They also exhibit covariance stationarity.\n",
    "\n",
    "See the graphs of these processes below."
   ]
  },
  {
   "cell_type": "code",
   "execution_count": 1,
   "metadata": {},
   "outputs": [],
   "source": [
    "import numpy as np\n",
    "import matplotlib.pyplot as plt\n",
    "import pandas as pd\n",
    "import statsmodels as sm\n",
    "%matplotlib nbagg"
   ]
  },
  {
   "cell_type": "code",
   "execution_count": 2,
   "metadata": {},
   "outputs": [
    {
     "name": "stderr",
     "output_type": "stream",
     "text": [
      "No handles with labels found to put in legend.\n",
      "No handles with labels found to put in legend.\n"
     ]
    },
    {
     "data": {
      "image/png": "[encoded data removed]",
      "text/plain": [
       "<Figure size 432x288 with 2 Axes>"
      ]
     },
     "metadata": {
      "needs_background": "light"
     },
     "output_type": "display_data"
    }
   ],
   "source": [
    "\n",
    "\n",
    "np.random.seed(123)\n",
    "\n",
    "t = np.linspace(0, 300, 300)\n",
    "\n",
    "alpha = 0\n",
    "epsilon = np.random.normal(loc=0.0, scale = .1, size=len(t))\n",
    "wn = alpha + epsilon\n",
    "\n",
    "# Creating MA process with specific coefficients\n",
    "ma = np.zeros(len(t))\n",
    "coeffs = [10, 7, 6, 1, 7, 8, 3, 4, 2, 1]\n",
    "for i in range(10):\n",
    "    ma = ma + np.random.normal(loc=0.0, scale = coeffs[i]*i*0.01, size=len(t))\n",
    "\n",
    "# Plotting the two time series\n",
    "plt.figure(1)\n",
    "plt.subplot(121)\n",
    "plt.plot(t, wn, alpha=0.5)\n",
    "plt.xlabel(\"$\\mathrm{t}$\")\n",
    "plt.ylabel(\"$\\mathrm{X_t}$\")\n",
    "plt.legend()\n",
    "plt.ylim(-2, 2)\n",
    "plt.grid()\n",
    "\n",
    "plt.subplot(122)\n",
    "plt.plot(t, ma, alpha=0.5)\n",
    "plt.xlabel(\"$\\mathrm{t}$\")\n",
    "plt.ylabel(\"$\\mathrm{Y_t}$\")\n",
    "plt.legend()\n",
    "plt.ylim(-2, 2)\n",
    "plt.grid()"
   ]
  },
  {
   "cell_type": "markdown",
   "metadata": {},
   "source": [
    "It is easy to verify that they are covariance stationary.\n",
    "\n",
    "0-mean processes can describe a wide variety of time-series with real applications in economics and finance. The 0-mean assumption is also without loss of generality as this does not affect the variance and covariance of the processes, and the mean of the random variables holds up to an additive constant.\n",
    "\n",
    "#### 1.3. Wold's decomposition theorem\n",
    "\n",
    "In particular, [Wold's representation theorem](https://en.wikipedia.org/wiki/Wold%27s_theorem) (Herman Wold, 1908-1992) says that every covariance-stationary time series $X_t$ can be written as the sum of two time series, one *deterministic* and one *stochastic*.\n",
    "\n",
    "Formally\n",
    "$$X_{t}=\\sum _{k=0}^{\\infty }b_{k}\\varepsilon _{t-k}+\\eta _{t}$$\n",
    "where:\n",
    "* $X_t$ is any covariance-stationary process\n",
    "* $\\varepsilon_t$ terms are white noises\n",
    "* $\\beta_k$ coefficients are potentially infinitely many linear filter weights. They must be square summable ( $\\sum _{k=0}^{\\infty }|b_{k}|^{2} < \\infty$ ), constant, and causal (*i.e.* $k \\geq 0$)\n",
    "* $\\eta_t$ is a deterministic time series, for instance a sine wave sampled every $\\dfrac{\\pi}{8}$\n",
    "\n",
    "#### 1.4. AR(p) processes\n",
    "\n",
    "Auto-regressive processes of order $p$ are defined as $$ X_{t}=c+\\sum _{k=1}^{p}\\varphi _{k}X_{t-k}+\\varepsilon _{t}$$ \n",
    "\n",
    "They are common in economics and finance. With many applications to financial and macroeconomic time series. For an AR(p) process to be stationary, the roots of the polynomial $ \\Phi (z):=\\textstyle 1-\\sum _{i=1}^{p}\\varphi _{i}z^{i} $ must lie outside the unit circle, *i.e.*, each (complex) root $ z_{i} $ must satisfy $ |z_{i}|>1 $. For an AR(1) process, this simply means: $|\\varphi_1 | < 1 $.\n",
    "\n",
    "##### 1.4.1. AR(1) processes\n",
    "\n",
    "An AR(1) process is simply defined as $$ X_t = \\varphi X_{t-1} + \\varepsilon_t $$ or by repeated substitutions: $$ X_t = \\sum_{k=0}^{\\infty} \\varphi^k \\varepsilon_{t-k}$$ \n",
    "\n",
    "We get:\n",
    "$$ \\mathbb E[X_t] = 0, \\quad \\mathrm{cov}(X_t, X_{t-k}) = \\sigma^2 \\dfrac{\\varphi^k}{1-\\varphi^2}, \\quad \\mathrm{and} \\quad \\mathrm{Var}(X_t) = \\dfrac{\\sigma^2}{1 - \\varphi^2} $$\n",
    "\n",
    "We can visualise such process easily:"
   ]
  },
  {
   "cell_type": "code",
   "execution_count": 3,
   "metadata": {},
   "outputs": [],
   "source": [
    "# Time\n",
    "t = np.linspace(1, 50, 50)\n",
    "\n",
    "# Parameters\n",
    "epsilon2 = np.random.normal(loc=0.0, scale = 0.5, size=len(t))\n",
    "phi = 0.85\n",
    "\n",
    "# Series\n",
    "X_t = np.zeros(len(t))\n",
    "X_t[0] = 1\n",
    "for k in range(1, len(t)):\n",
    "    X_t[k] = X_t[k-1]*phi + epsilon2[k]\n",
    "\n",
    "X_neg_t = np.zeros(len(t))\n",
    "X_neg_t[0] = 1\n",
    "for k in range(1, len(t)):\n",
    "    X_neg_t[k] = X_neg_t[k-1]*(-phi) + epsilon2[k]    \n",
    "\n",
    "# Covariances\n",
    "acov1 = [phi**k/(1 - phi**2) for k in t]\n",
    "acov2 = [(-phi)**k/(1 - phi**2) for k in t]"
   ]
  },
  {
   "cell_type": "markdown",
   "metadata": {},
   "source": [
    "For both series, the autocovariance of the $k^{th}$ term with the first term deacreases asymptotically toward zero as time elapses."
   ]
  },
  {
   "cell_type": "code",
   "execution_count": 4,
   "metadata": {},
   "outputs": [
    {
     "name": "stderr",
     "output_type": "stream",
     "text": [
      "No handles with labels found to put in legend.\n",
      "No handles with labels found to put in legend.\n"
     ]
    },
    {
     "data": {
      "text/plain": [
       "(-4, 4)"
      ]
     },
     "execution_count": 4,
     "metadata": {},
     "output_type": "execute_result"
    },
    {
     "data": {
      "image/png": "[encoded data removed]",
      "text/plain": [
       "<Figure size 432x288 with 4 Axes>"
      ]
     },
     "metadata": {
      "needs_background": "light"
     },
     "output_type": "display_data"
    }
   ],
   "source": [
    "# Plot\n",
    "plt.figure(2)\n",
    "plt.subplot(421)\n",
    "plt.plot(t, X_t, alpha=0.5, label = '$\\phi $ = 0.2')\n",
    "plt.grid()\n",
    "plt.ylabel(\"$X_t$\")\n",
    "plt.legend()\n",
    "plt.ylim(-4, 4)\n",
    "\n",
    "plt.subplot(423)\n",
    "plt.plot(t, acov1, marker='o', fillstyle='full', markerfacecolor='white', alpha=0.5)\n",
    "plt.grid()\n",
    "plt.xlabel(\"$t$\")\n",
    "plt.legend()\n",
    "plt.ylim(-4, 4)\n",
    "\n",
    "plt.subplot(422)\n",
    "plt.plot(t, X_neg_t, alpha=0.5, label = '$\\phi $ = -0.2')\n",
    "#plt.xlabel(\"$\\mathrm{t}$\")\n",
    "plt.ylabel(\"$X_t$\")\n",
    "plt.legend()\n",
    "plt.grid()\n",
    "plt.ylim(-4, 4)\n",
    "\n",
    "plt.subplot(424)\n",
    "plt.plot(t, acov2, marker='o', fillstyle='full', markerfacecolor='white', alpha=0.5)\n",
    "plt.grid()\n",
    "plt.xlabel(\"$t$\")\n",
    "plt.legend()\n",
    "plt.ylim(-4, 4)"
   ]
  },
  {
   "cell_type": "markdown",
   "metadata": {},
   "source": [
    "\n",
    "\n",
    "##### 1.4.2. Properties of AR(p) processes\n",
    "\n",
    "#### 1.5. MA(p) processes\n",
    "\n",
    "##### 1.5.1. MA(1) process\n",
    "\n",
    "A moving average process of order $p$ is defined as $$X_t = \\mu + \\sum_{k=0}^p \\varphi_k \\varepsilon_{t-k}$$ and its properties are:\n",
    "\n",
    "$$ \\mathrm{var}(X_t) = \\sigma^2 (1 + \\sigma^2), \\quad \\mathrm{cov}(X_t, X_{t+1}) = \\sigma^2 \\varphi, \\quad \\mathrm{and}  \\quad \\mathrm{cov}(X_t, X_{t+k}) = 0 \\quad \\mathrm{for} \\quad k>1  $$\n",
    "\n",
    "##### 1.5.2. Properties of MA(p) processes\n",
    "\n",
    "#### ARMA(p, q) processes\n",
    "\n",
    "Simply defined as $$ X_t = \\sum_{k=0}^p \\theta_i X_{t-i} + \\sum_{i=0}^q \\varphi_k \\varepsilon_{t-k} $$\n",
    "\n",
    "Or with the lag operator $L^k X_t = X_{t-k}$, the expression above can be re-written:\n",
    "\n",
    "$$\\begin{split}\n",
    "X_t - \\sum_{k=0}^p \\theta_i L^k X_t = & \\sum_{i=0}^q \\varphi_k L^i \\varepsilon_t \\\\\n",
    "L^0 X_t - \\theta_1 L^1 X_t - ... - \\theta_p L^p X_t = & L^0 \\varepsilon_t + \\varphi_1 L^1 \\varepsilon_t + ... + \\varphi_q L^q \\varepsilon_t\n",
    "\\end{split}$$\n",
    "\n",
    "Defining the polynomials  $ \\theta(x) $ and $ \\varphi(x) $ to be the corresponding polynomials of the left- and right-hand sides respectively:\n",
    "\n",
    "$$\\begin{split}\n",
    "\\theta(x) := 1 - \\theta_1 x - ... - \\theta_p x^p\n",
    "\\quad \\text{and} \\quad\n",
    "\\varphi(x) := 1 + \\varphi_1 x + ... + \\varphi_q x^q\n",
    "\\end{split}$$\n",
    "\n",
    "We get the following sufficient condition for the covariance-stationarity of $X_t$: \n",
    "**$X_t$ is covariance-stationary if the roots of of the $\\theta(x)$ polynomial associated with the AR(p) part of the ARMA(p, q) process lie outside of the unit disk in the complex plane.**\n"
   ]
  },
  {
   "cell_type": "markdown",
   "metadata": {},
   "source": [
    "### 2. Time series in statsmodels\n",
    "\n",
    "`statsmodels` provides us with the tools necessary to analyse and tests ARMA processe sin Python. These functions are accessed through the `tsa` submodule of `statsmodels`.\n",
    "\n",
    "Other available modules to deal with time-series are the QuantEcon `arma.py` module (imported through the [`QuantEcon.py` package](https://quantecon.org/quantecon-py)), and the probabilistic programming module [PyMC3](https://docs.pymc.io/), which we'll cover later in this lecture.\n",
    "\n",
    "In this section, we provide a partial overview of some of the most useful functionalities of `tsa` for social science research.\n",
    "\n",
    "\n",
    "#### Seasonal decomposition\n",
    "\n",
    "`seasonal_decompose` can be used to separate additive or multiplicative time trends in a time series from seasonal fluctuations.\n",
    "We can try to decompose US real GDP. We purposedly use a non-seasonally adjusted dataset. On the St.-Louis Fed's website, we can find such time-series, covering the 1947-2019 period, measured in US$ millions. You can find this series [here](https://fred.stlouisfed.org/series/NA000334Q)"
   ]
  },
  {
   "cell_type": "code",
   "execution_count": 5,
   "metadata": {},
   "outputs": [
    {
     "name": "stdout",
     "output_type": "stream",
     "text": [
      "            NA000334Q\n",
      "DATE                 \n",
      "1947-01-01    58497.0\n",
      "1947-04-01    60672.0\n",
      "1947-07-01    62196.0\n",
      "1947-10-01    68250.0\n",
      "1948-01-01    64258.0\n",
      "NA000334Q    float64\n",
      "dtype: object\n"
     ]
    }
   ],
   "source": [
    "gdp = pd.read_csv('https://fred.stlouisfed.org/graph/fredgraph.csv?bgcolor=%23e1e9f0&chart_type=line&drp=0&fo=open%20sans&graph_bgcolor=%23ffffff&height=450&mode=fred&recession_bars=on&txtcolor=%23444444&ts=12&tts=12&width=748&nt=0&thu=0&trc=0&show_legend=yes&show_axis_titles=yes&show_tooltip=yes&id=NA000334Q&scale=left&cosd=1947-01-01&coed=2019-04-01&line_color=%234572a7&link_values=false&line_style=solid&mark_type=none&mw=3&lw=2&ost=-99999&oet=99999&mma=0&fml=a&fq=Quarterly&fam=avg&fgst=lin&fgsnd=2009-06-01&line_index=1&transformation=lin&vintage_date=2019-09-11&revision_date=2019-09-11&nd=1947-01-01',\n",
    "                parse_dates=['DATE'], index_col='DATE')\n",
    "print(gdp.head())\n",
    "print(gdp.dtypes)"
   ]
  },
  {
   "cell_type": "code",
   "execution_count": 6,
   "metadata": {},
   "outputs": [
    {
     "name": "stderr",
     "output_type": "stream",
     "text": [
      "C:\\Users\\dyevre\\AppData\\Local\\Continuum\\anaconda3\\lib\\site-packages\\pandas\\plotting\\_converter.py:129: FutureWarning: Using an implicitly registered datetime converter for a matplotlib plotting method. The converter was registered by pandas on import. Future versions of pandas will require you to explicitly register matplotlib converters.\n",
      "\n",
      "To register the converters:\n",
      "\t>>> from pandas.plotting import register_matplotlib_converters\n",
      "\t>>> register_matplotlib_converters()\n",
      "  warnings.warn(msg, FutureWarning)\n"
     ]
    },
    {
     "data": {
      "image/png": "[encoded data removed]",
      "text/plain": [
       "<Figure size 432x288 with 1 Axes>"
      ]
     },
     "metadata": {
      "needs_background": "light"
     },
     "output_type": "display_data"
    }
   ],
   "source": [
    "plt.figure(3)\n",
    "plt.plot(gdp['NA000334Q'])   # Note: we do not need to specify the dates here as they are already defined as indices\n",
    "plt.grid()"
   ]
  },
  {
   "cell_type": "markdown",
   "metadata": {},
   "source": [
    "It is rather obvious that we would need a multiplicative decomposition, but we try both here for the sake of exposition. The `seasonal_decompose` is useful in that it stores the trend --multiplicative or additive--, the seasonal component, and the residual in a custom-made container `DecomposeResult`.\n",
    "\n",
    "Note how the residual of the additive decomposition still have some pattern."
   ]
  },
  {
   "cell_type": "code",
   "execution_count": 11,
   "metadata": {},
   "outputs": [
    {
     "data": {
      "text/plain": [
       "Text(0.5, 0.98, 'Additive Decompose')"
      ]
     },
     "execution_count": 11,
     "metadata": {},
     "output_type": "execute_result"
    },
    {
     "data": {
      "text/plain": [
       "<Figure size 432x288 with 0 Axes>"
      ]
     },
     "metadata": {},
     "output_type": "display_data"
    },
    {
     "data": {
      "image/png": "[encoded data removed]",
      "text/plain": [
       "<Figure size 432x288 with 4 Axes>"
      ]
     },
     "metadata": {
      "needs_background": "light"
     },
     "output_type": "display_data"
    },
    {
     "data": {
      "image/png": "[encoded data removed]",
      "text/plain": [
       "<Figure size 432x288 with 4 Axes>"
      ]
     },
     "metadata": {
      "needs_background": "light"
     },
     "output_type": "display_data"
    }
   ],
   "source": [
    "from statsmodels.tsa.seasonal import seasonal_decompose\n",
    "\n",
    "# Multiplicative decomposition \n",
    "mul = seasonal_decompose(gdp['NA000334Q'], model='multiplicative')\n",
    "\n",
    "# Additive decomposition\n",
    "add = seasonal_decompose(gdp['NA000334Q'], model='additive')\n",
    "\n",
    "plt.figure(2)\n",
    "mul.plot().suptitle('Multiplicative Decompose')\n",
    "add.plot().suptitle('Additive Decompose')"
   ]
  },
  {
   "cell_type": "markdown",
   "metadata": {},
   "source": [
    "Let's now store all the separate components of the decompositions, so as to be able to re-use them later. We wrap them in a Panda dataframe:"
   ]
  },
  {
   "cell_type": "code",
   "execution_count": 18,
   "metadata": {},
   "outputs": [
    {
     "data": {
      "text/html": [
       "<div>\n",
       "<style scoped>\n",
       "    .dataframe tbody tr th:only-of-type {\n",
       "        vertical-align: middle;\n",
       "    }\n",
       "\n",
       "    .dataframe tbody tr th {\n",
       "        vertical-align: top;\n",
       "    }\n",
       "\n",
       "    .dataframe thead th {\n",
       "        text-align: right;\n",
       "    }\n",
       "</style>\n",
       "<table border=\"1\" class=\"dataframe\">\n",
       "  <thead>\n",
       "    <tr style=\"text-align: right;\">\n",
       "      <th></th>\n",
       "      <th>Seasonal</th>\n",
       "      <th>Trend</th>\n",
       "      <th>Residual</th>\n",
       "      <th>Observed</th>\n",
       "    </tr>\n",
       "    <tr>\n",
       "      <th>DATE</th>\n",
       "      <th></th>\n",
       "      <th></th>\n",
       "      <th></th>\n",
       "      <th></th>\n",
       "    </tr>\n",
       "  </thead>\n",
       "  <tbody>\n",
       "    <tr>\n",
       "      <th>1947-01-01</th>\n",
       "      <td>-35120.442421</td>\n",
       "      <td>NaN</td>\n",
       "      <td>NaN</td>\n",
       "      <td>58497.0</td>\n",
       "    </tr>\n",
       "    <tr>\n",
       "      <th>1947-04-01</th>\n",
       "      <td>3216.837509</td>\n",
       "      <td>NaN</td>\n",
       "      <td>NaN</td>\n",
       "      <td>60672.0</td>\n",
       "    </tr>\n",
       "    <tr>\n",
       "      <th>1947-07-01</th>\n",
       "      <td>2090.884922</td>\n",
       "      <td>63123.875</td>\n",
       "      <td>-3018.759922</td>\n",
       "      <td>62196.0</td>\n",
       "    </tr>\n",
       "    <tr>\n",
       "      <th>1947-10-01</th>\n",
       "      <td>29812.719991</td>\n",
       "      <td>64577.375</td>\n",
       "      <td>-26140.094991</td>\n",
       "      <td>68250.0</td>\n",
       "    </tr>\n",
       "    <tr>\n",
       "      <th>1948-01-01</th>\n",
       "      <td>-35120.442421</td>\n",
       "      <td>66208.500</td>\n",
       "      <td>33169.942421</td>\n",
       "      <td>64258.0</td>\n",
       "    </tr>\n",
       "  </tbody>\n",
       "</table>\n",
       "</div>"
      ],
      "text/plain": [
       "                Seasonal      Trend      Residual  Observed\n",
       "DATE                                                       \n",
       "1947-01-01 -35120.442421        NaN           NaN   58497.0\n",
       "1947-04-01   3216.837509        NaN           NaN   60672.0\n",
       "1947-07-01   2090.884922  63123.875  -3018.759922   62196.0\n",
       "1947-10-01  29812.719991  64577.375 -26140.094991   68250.0\n",
       "1948-01-01 -35120.442421  66208.500  33169.942421   64258.0"
      ]
     },
     "execution_count": 18,
     "metadata": {},
     "output_type": "execute_result"
    }
   ],
   "source": [
    "gdp_add = pd.concat([add.seasonal, add.trend, add.resid, add.observed], axis=1)\n",
    "gdp_mul = pd.concat([mul.seasonal, mul.trend, mul.resid, mul.observed], axis=1)\n",
    "gdp_add.columns = ['Seasonal', 'Trend', 'Residual', 'Observed']\n",
    "gdp_mul.columns = ['Seasonal', 'Trend', 'Residual', 'Observed']\n",
    "\n",
    "gdp_add.head()"
   ]
  },
  {
   "cell_type": "markdown",
   "metadata": {},
   "source": [
    "#### Transforming non-statiionary series into stationary ones"
   ]
  },
  {
   "cell_type": "markdown",
   "metadata": {},
   "source": [
    "\n",
    "\n",
    "\n",
    "#### Standard filters\n",
    "\n",
    "\n",
    "Baxter-King bandpass filter, \t\n",
    "Hodrick-Prescott filter, \n",
    "Convolve two N-dimensional arrays using FFT,\n",
    "Kalman Filter code intended for use with the ARMA model\n",
    "\n",
    "#### tests of co-integration and stationarity, and unit roots\n",
    "\n",
    "Augmented Dickey-Fuller unit root test,\n",
    "Durbin test\n",
    "\n",
    "\n",
    "\n",
    "### PyMC3"
   ]
  },
  {
   "cell_type": "markdown",
   "metadata": {},
   "source": [
    "Maximum likelihood is an intuitive and popular method of statistical inference. It involves choosing a set of parameters such that, when fed to a Data Generating Process (DGP), they match the observed moments of the data. The main advantages of maximum likelihood estimation are:\n",
    "* its efficiency: It achieves the **Cramer-Rao** lower bound when $n \\rightarrow \\infty$\n",
    "* its consistency: The ML estimator converges in probability to the true parameter $\\hat{\\theta}_{MLE} \\xrightarrow{p} \\theta$, and even almost surely under stricter regularity conditions\n",
    "* its versatility: Any DGP can be estimated by MLE. It is more versatile than linear regression as it allows for more intricate relationships between variables.\n",
    "\n",
    "Its main drawback is that it requires us to assume a specific parametric distribution of the data."
   ]
  },
  {
   "cell_type": "markdown",
   "metadata": {},
   "source": [
    "### 2. Coding the MLE estimator \n",
    "\n",
    "#### 2.1. The linear case\n",
    "\n",
    "Let's create a random sample of size $N = 1,000$, generated by the following DGP: $$ \\mathbf{y} = \\mathbf{X \\beta} + \\mathbf{\\varepsilon} \\\\ \\varepsilon \\sim \\mathcal{N}(0, \\sigma^2 I)$$\n",
    "The normality of errors and their 0-correlation ensure they are independent, a property we will use when implementing the MLE method."
   ]
  },
  {
   "cell_type": "code",
   "execution_count": null,
   "metadata": {},
   "outputs": [],
   "source": [
    "import numpy as np\n",
    "import scipy as sp\n",
    "import pandas as pd\n",
    "import matplotlib as mp\n",
    "%matplotlib nbagg\n",
    "import matplotlib.pyplot as plt\n",
    "\n",
    "import statsmodels as sm"
   ]
  },
  {
   "cell_type": "code",
   "execution_count": null,
   "metadata": {},
   "outputs": [],
   "source": [
    "# True values of X's will be linear functions measured without noise\n",
    "X1_true = np.linspace(0, 100, 1000) \n",
    "X2_true = np.linspace(0, -500, 1000) \n",
    "X3_true = np.linspace(0, 2000, 1000) \n",
    "\n",
    "# We also add a vector of ones to the matrix of observables, this will allow us to include an intercept in the model\n",
    "X0 = np.ones(1000)\n",
    "\n",
    "X_true = np.array([X0,\n",
    "              X1_true, \n",
    "              X2_true,\n",
    "              X3_true]).T\n",
    "\n",
    "# We define observed covariates as the sum of the true X's + normal noise (can be interpreted as measurement error or simply as a way to avoid perfect multicolinearity) \n",
    "np.random.seed(123)\n",
    "X1 = X1_true + np.random.normal(loc=0.0, scale = 10, size=1000)\n",
    "X2 = X2_true + np.random.normal(loc=0.0, scale = 50, size=1000) \n",
    "X3 = X3_true + np.random.normal(loc=0.0, scale = 200, size=1000)\n",
    "\n",
    "X = np.array([X0,\n",
    "              X1, \n",
    "              X2,\n",
    "              X3]).T\n",
    "\n",
    "# True parameters\n",
    "β = np.array([5, 10, -.5, .25]).T\n",
    "sigma = 100\n",
    "epsilon = np.random.normal(loc=0.0, scale = sigma, size=1000)\n",
    "\n",
    "# Measured and true values\n",
    "y = X @ β + epsilon\n",
    "y_true = X_true @ β"
   ]
  },
  {
   "cell_type": "markdown",
   "metadata": {},
   "source": [
    "We get a simple linear, homoskedastic relastionship between the covariates and the observed $y_i$. See for instance $\\mathbf{y}$ with respect to $\\mathbf{x_1}$ below"
   ]
  },
  {
   "cell_type": "code",
   "execution_count": null,
   "metadata": {},
   "outputs": [],
   "source": [
    "plt.scatter(X1, y, c=\"c\", alpha=0.2, label=\"Data\")\n",
    "plt.scatter(X1_true, y_true, c=\"r\", alpha=0.1, marker='.', label = \"True values\")\n",
    "plt.xlabel(\"$\\mathrm{x_1}$\")\n",
    "plt.ylabel(\"$\\mathrm{y}$\")\n",
    "plt.legend()"
   ]
  },
  {
   "cell_type": "markdown",
   "metadata": {},
   "source": [
    "OLS is BLUE in this case. Now if we estimate the coefficients by OLS we get $\\hat{\\beta}_{OLS} = (\\mathbf{X}^T\\mathbf{X})^{-1}\\mathbf{X}^{T}\\mathbf{y} $"
   ]
  },
  {
   "cell_type": "code",
   "execution_count": null,
   "metadata": {},
   "outputs": [],
   "source": [
    "β_ols = np.linalg.inv((X.T @ X)) @ (X.T @ y)\n",
    "β_ols"
   ]
  },
  {
   "cell_type": "markdown",
   "metadata": {},
   "source": [
    "Now under normality of errors, OLS and MLE estimates of the coefficients are asymptotically equal. Let's define an iterative procedure to estimate $\\boldsymbol{\\beta}$ through MLE and verify that the results are in line with OLS. When errors are normally distributed, we do not need to go through such lengths as the MLE estimator has a closed-form solution. But we simply show how the convergence algorithm works in this simple case. \n",
    "\n",
    "Our true parameter values are $$\\boldsymbol{\\beta} = \\begin{bmatrix}\n",
    "                            \\alpha \\\\\n",
    "                            \\beta_1 \\\\\n",
    "                            \\beta_2 \\\\\n",
    "                            \\beta_3\n",
    "                      \\end{bmatrix}  = \\begin{bmatrix}\n",
    "                            10 \\\\\n",
    "                            5 \\\\\n",
    "                            0.5 \\\\\n",
    "                            0.25\n",
    "                      \\end{bmatrix}\n",
    "                      , \\sigma = 100$$\n",
    "We define a likelihood function, based on $N$ draws of the data $$f\\left(\\mathbf{y} | \\mathbf{X} ; \\boldsymbol{\\beta}, \\sigma^{2}\\right)=\\prod_{i=1}^{N} f\\left(y_{i} | x_i , \\boldsymbol{\\beta}, \\sigma^{2}\\right)$$\n",
    "where we assume that errors are normally i.i.d, so\n",
    "\n",
    "$$ f\\left(y_{i} | x_i , \\boldsymbol{\\beta}, \\sigma^{2}\\right) = \\frac{1}{\\sqrt{2 \\pi} \\sigma} \\cdot e^{-\\frac{1}{2 \\sigma^{2}}\\left(y_{i}-x_{i}^{\\prime} \\boldsymbol{\\beta}\\right)^{2}} $$\n",
    "\n",
    "We further define the likelihood function $\\mathcal{L}(\\boldsymbol{\\beta} | \\mathbf{y}, \\mathbf{X})$ which treats the parameters $\\boldsymbol{\\beta}$ and $\\sigma$ as random and the values $\\mathbf{y, X}$ as given. MLE consists in maximising the value of $\\mathcal{L}(\\boldsymbol{\\beta}, \\sigma | \\mathbf{y}, \\mathbf{X})$ by chosing $\\boldsymbol{\\beta}$ and $\\sigma$ optimally. It is easier to work with the log of the likelihood function and this does not affect the maximiser as any monotonically increasing transformation of a function has the same maximiser.\n",
    "\n",
    "We thus maximise:\n",
    "\n",
    "$$\n",
    "\\begin{split}\n",
    "\\ln{\\mathcal{L} \\left( \\boldsymbol{\\beta}, \\sigma | \\mathbf{y}, \\mathbf{X} \\right)} = & \\ell\\left(\\boldsymbol{\\beta}, \\sigma | \\mathbf{y}, \\mathbf{X} \\right) \\\\\n",
    "        = & -\\frac{n}{2} \\ln (2 \\pi)-\\frac{n}{2} \\ln \\left(\\sigma^{2}\\right)-\\frac{1}{2 \\sigma^{2}} \\sum_{i=1}^{N}\\left(y_{i}-x_{i}^{\\prime} \\beta\\right)^{2}\n",
    "\\end{split}\n",
    "$$\n",
    "\n",
    "And our solution is:\n",
    "\n",
    "$$\n",
    "\\left( \\hat{\\beta}_{MLE}, \\hat{\\sigma}_{MLE} \\right) = \\underset{\\theta, \\beta}{\\mathrm{argmax}} \\left\\{ -\\frac{n}{2} \\ln (2 \\pi)-\\frac{n}{2} \\ln \\left(\\sigma^{2}\\right)-\\frac{1}{2 \\sigma^{2}} \\sum_{i=1}^{N}\\left(y_{i}-x_{i}^{\\prime} \\beta\\right)^{2} \\right\\}\n",
    "$$ \n",
    "\n",
    "#### 2.2.  Manual coding of the MLE problem\n",
    "\n",
    "We now turn to coding the problem stated above. We aim to obtain MLE estimates based on the dataset created at the beginning of the Notebook.\n",
    "\n",
    "We transform the problem into a minimisation one. Minimisation problems are more numerically stable. We will call a Scipy function for our proble: `scipy.optimize.minimize`.\n",
    "\n",
    "The Scipy `minimize` function provides a vast collection of constrained and unconstrained minimizations algorithms for multivariate scalar functions. The default algorithm `minimize` resorts to when solving an unconstrained optimization problem (like ours) is the [Broyden–Fletcher–Goldfarb–Shanno (BFGS) algorithm](https://en.wikipedia.org/wiki/Broyden%E2%80%93Fletcher%E2%80%93Goldfarb%E2%80%93Shanno_algorithm), which is also used by MATLAB and R's optimisation routines. Another popular option is the [Nelder-Mead method](https://en.wikipedia.org/wiki/Nelder%E2%80%93Mead_method), whose robustness to many types of objective functions makes it a very versatile -but slow- algorithm.\n",
    "You can pass the algorithm you want use as an argument of `minimize`, based on your application.\n",
    "\n",
    "We will simply use three arguments in our application of `minimize`: \n",
    "* The function to be minimised, called the criterion (here $ -\\ell\\left(\\boldsymbol{\\beta}, \\sigma | \\mathbf{y}, \\mathbf{X} \\right)$)\n",
    "* An initial guess for the value of the $\\beta$ and $\\sigma$ parameters\n",
    "* The data needed to be fed to the criterion\n",
    "\n",
    "We first encode the criterion below. We need to be careful about the type of arguments taken by this function. Whether the parameters need to be entered as tuples, arrays, or lists is dictated by the how the `minimize` function works."
   ]
  },
  {
   "cell_type": "code",
   "execution_count": null,
   "metadata": {},
   "outputs": [],
   "source": [
    "def negLogLNorm(params, *args):\n",
    "    '''\n",
    "    --------------------------------------------------------------------\n",
    "    Calculate -log(likelihood) using data points \"data\" and parameters\n",
    "    \"params\". \n",
    "    The log(likelihood) is calculated based on the assumption that \n",
    "    errors are normally distributed. \n",
    "    --------------------------------------------------------------------\n",
    "    \n",
    "    INPUTS:\n",
    "    params  =   numpy array with 2 elements: one k*1 vector of beta \n",
    "                coefficients (including intercept), and one scalar for \n",
    "                sigma\n",
    "    data    =   numpy array with two elements: one N*1 vector of \n",
    "                observations of the dependent variable, and one N*k \n",
    "                matrix of observations of the dependent variables     \n",
    "    \n",
    "    RETURNS: \n",
    "    neg_log_lik_val =   The negative of the log likelihood, using the \n",
    "                        assumption that errors are normally distributed\n",
    "    --------------------------------------------------------------------\n",
    "    '''\n",
    "    \n",
    "    # Fetching parameters and data (note: args and param are tuples)\n",
    "    b0, b1, b2, b3, sigma = params\n",
    "    β = np.array([b0, b1, b2, b3])    #Transforming the tuple of coefficients into an Numpy array to be used in matrix multiplication\n",
    "    y, X = args[0], args[1]\n",
    "    \n",
    "    # Calculating bits of the log-likelihood\n",
    "    E = y - X @ β                     # vector of errors\n",
    "    SSE = np.square(E).sum()          # sum of squared errors\n",
    "    N = len(y)                        #sample size\n",
    "    \n",
    "    # Define the log likelihood function\n",
    "    log_likelihood = - (N/2)*np.log(2 * np.pi) - (N/2)*np.log(sigma**2) - (1/(2 * sigma**2))*SSE\n",
    "    \n",
    "    neg_log_likelihood = - log_likelihood \n",
    "    \n",
    "    return neg_log_likelihood"
   ]
  },
  {
   "cell_type": "markdown",
   "metadata": {},
   "source": [
    "We can now use the `minimize` function. We import the `optimize` library under a convenient name, define some initial parameter values (our guesses), and define the data to be used."
   ]
  },
  {
   "cell_type": "code",
   "execution_count": null,
   "metadata": {},
   "outputs": [],
   "source": [
    "import scipy.optimize as opt\n",
    "\n",
    "β_0 = np.array([0, 0, 0, 0, 1])\n",
    "data = (y, X)\n",
    "MLE_results = opt.minimize(negLogLNorm, β_0, args=(data))\n",
    "MLE_results"
   ]
  },
  {
   "cell_type": "markdown",
   "metadata": {},
   "source": [
    "`minimize` returns our estimated parameters (`x`), and much more, as an `OptimizeResult` object. We get the value of the negative log likelihood, Jacobian and Hessian matrices at the solution, whether the optimiser has converged (in our case it hasn't).\n",
    "\n",
    "As anticipated, the estimated parameters are the same as those found via OLS. Our encoding of MLE has worked.\n",
    "\n",
    "If you are interested in coding your own optimisation algorithm, the [Quant-Econ MLE lecture](https://lectures.quantecon.org/py/mle.html) has a nice explanation and implementation of the [Newton-Raphson algorithm](https://en.wikipedia.org/wiki/Newton%27s_method).\n",
    "\n",
    "#### 2.3. Variance-covariance of $\\hat{\\theta}_{MLE}$\n",
    "\n",
    "Note that we can easily obtain the variance-covariance matrix of our MLE estimator, as the inverse of the estimated Hessian is reported in the output above. Formally, the variance-covariance matrix of $\\hat{\\theta}_{MLE}$ is:\n",
    "\n",
    "$$ \\mathrm{var}(\\theta) = \\left(-E\\left[\\frac{\\partial^{2} \\ln \\mathcal{L}(\\theta)}{\\partial \\theta \\partial \\theta^{\\prime}}\\right]\\right)^{-1} $$\n",
    "\n",
    "We get it as follows:"
   ]
  },
  {
   "cell_type": "code",
   "execution_count": null,
   "metadata": {},
   "outputs": [],
   "source": [
    "var = MLE_results.hess_inv\n",
    "se_alpha = np.sqrt(var[0, 0])\n",
    "se_beta1 = np.sqrt(var[1, 1])\n",
    "se_beta2 = np.sqrt(var[2, 2])\n",
    "se_beta3 = np.sqrt(var[3, 3])\n",
    "se_sigma = np.sqrt(var[4, 4])\n",
    "\n",
    "print('SE(alpha) = ', se_alpha,  \n",
    "      '\\nSE(beta_1) =', se_beta1,\n",
    "      '\\nSE(beta_2) =', se_beta2,\n",
    "      '\\nSE(beta_3) =', se_beta3,\n",
    "      '\\nSE(sigma) =', se_sigma)"
   ]
  },
  {
   "cell_type": "markdown",
   "metadata": {},
   "source": [
    "#### 2.4.  Constrained optimisation with `minimize`\n",
    "\n",
    "`minimize` is also equipped with optimisation algorithms designed to deal with constrains. Let's say we believe that the intercept $\\alpha$ must be between 5 and 6. The `trust-constr` (Trust-Region Constrained algorithm), `L-BFGS-B` (Limited memory BFGS with Box constraints), `TNC` (Truncated Newton, implemented in C), and `SLSQP` (Sequential Least SQuares Programming) methods can handle these constraints. See more information on these methods [here](https://docs.scipy.org/doc/scipy/reference/tutorial/optimize.html). They are implemented by calling `method='chosenMethod'` as an argument of `minimize`. \n",
    "\n",
    "To define our constraint $5 < \\alpha < 6$, we actually need to define a system of inequalities over all parameters. For instance\n",
    "\n",
    "$$\\begin{bmatrix}\n",
    "   5 \\\\\n",
    "   1 \\\\\n",
    "   1 \\\\\n",
    "   1 \\\\\n",
    "   1\n",
    "   \\end{bmatrix} \\leq\n",
    "   \\begin{bmatrix}\n",
    "   1 & 0 & 0 & 0 & 0\\\\\n",
    "   0 & 0 & 0 & 0 & 0\\\\\n",
    "   0 & 0 & 0 & 0 & 0\\\\\n",
    "   0 & 0 & 0 & 0 & 0\\\\\n",
    "   0 & 0 & 0 & 0 & 0\n",
    "   \\end{bmatrix}\n",
    "   \\begin{bmatrix}\n",
    "   \\alpha \\\\\n",
    "   \\beta_1 \\\\\n",
    "   \\beta_2 \\\\\n",
    "   \\beta_3 \\\\\n",
    "   \\sigma\n",
    "   \\end{bmatrix} \\leq\n",
    "   \\begin{bmatrix}\n",
    "   6 \\\\\n",
    "   1 \\\\\n",
    "   1 \\\\\n",
    "   1 \\\\\n",
    "   1\n",
    "   \\end{bmatrix} $$\n",
    "                            \n",
    "Where only the first inequality could be binding.\n",
    "\n",
    "This is how we implement it:"
   ]
  },
  {
   "cell_type": "code",
   "execution_count": null,
   "metadata": {},
   "outputs": [],
   "source": [
    "#Defining the constraint with LinearConstraint\n",
    "from scipy.optimize import LinearConstraint\n",
    "cons = LinearConstraint([[1, 0, 0, 0, 0], \n",
    "                         [0, 0, 0, 0, 0], \n",
    "                         [0, 0, 0, 0, 0], \n",
    "                         [0, 0, 0, 0, 0],\n",
    "                         [0, 0, 0, 0, 0]],\n",
    "                        [5, 1, 1, 1, 1],\n",
    "                        [6, 1, 1, 1, 1])"
   ]
  },
  {
   "cell_type": "code",
   "execution_count": null,
   "metadata": {},
   "outputs": [],
   "source": [
    "results_cons = opt.minimize(negLogLNorm, β_0, args=(data), method='trust-constr', constraints=[cons])\n",
    "results_cons"
   ]
  },
  {
   "cell_type": "markdown",
   "metadata": {},
   "source": [
    "### 3. MLE with 'statsmodels'\n",
    "\n",
    "It can be painful to code every single aspect of the Maximum Likelihood Estimation, and to fetch every interesting result manually. Fortunately, the [`statsmodels`](https://www.statsmodels.org/stable/index.html) package has an extensive catalogue of tools for statistical inference, including MLE. This package also allows us to generate a much richer set of outputs very easily: confidence intervals, p-statistics, pseudo- R-squared are all generated by default. \n",
    "\n",
    "STATA and R users will feel at home with this package as estimations results are presented in a similar way. However, using the package proficiently may sometimes require a good grasp of object-oriented programming. The time invested in getting familiar with object-oriented programming is definitely worth it, as it will make \n",
    "\n",
    "#### 3.1. Hacking the `GenericLikelihoodModel` class from `statsmodels` \n",
    "\n",
    "Let's first reproduce our results above with `statsmodels`, this will give us a feel of what output is generated. For this, we will need to define a new model class that inherits from `statsmodels`' `GenericLikelihood Model`'s attributes. This class uses a log-likelihood defined ex-ante, and will be estimated by `statsmodels` algorithms. When defining a custom model relying on maximum likelihood, we need to respect the standard architecture of the `GenericLikelihoodModel` cannon (see [here](https://www.statsmodels.org/dev/examples/notebooks/generated/generic_mle.html) for an example)."
   ]
  },
  {
   "cell_type": "code",
   "execution_count": null,
   "metadata": {},
   "outputs": [],
   "source": [
    "import statsmodels.api as sm\n",
    "from statsmodels.base.model import GenericLikelihoodModel\n",
    "\n",
    "# We first define a log-likelihood, which will be fed to our custom class `MLE_for_OLS`\n",
    "def logL(y, X, β, σ):\n",
    "    y_hat = X @ β\n",
    "    return norm(y_hat, σ).logpdf(y).sum()   # This is a shorter encoding of the log likelihood than the one above\n",
    "\n",
    "# Now we build an MLE solver, using the 'GenericLikelihoodModel' class\n",
    "class MLE_for_OLS(GenericLikelihoodModel):\n",
    "    def __init__(self, endog, exog, **kwargs):\n",
    "        super(MLE_for_OLS, self).__init__(endog, exog, **kwargs) # When we don't know how many variable arguments can be passed on to the function, we use *args\n",
    "                                                           # We use **kwargs instead when we want a named list of arguments (a dictionary)\n",
    "    def nloglikeobs(self, params):\n",
    "        σ = params[-1]\n",
    "        β = params[:-1]\n",
    "        ll = logL(self.endog, self.exog, β, σ)\n",
    "        return -ll\n",
    "    \n",
    "    def fit(self, start_params = None, maxiter = 10000, maxfun = 10000, **kwargs):\n",
    "        # We need to add the σ to the list of parameters to be estimated\n",
    "        self.exog_names.append('σ')\n",
    "        if start_params == None:                            # Default starting values, if none specified\n",
    "            start_params = np.append(np.zeros(self.exog.shape[1]), 1)\n",
    "        return super(MLE_for_OLS, self).fit(start_params=start_params,\n",
    "                         maxiter=maxiter, maxfun=maxfun,\n",
    "                         **kwargs)"
   ]
  },
  {
   "cell_type": "markdown",
   "metadata": {},
   "source": [
    "And we now print the results."
   ]
  },
  {
   "cell_type": "code",
   "execution_count": null,
   "metadata": {},
   "outputs": [],
   "source": [
    "sm_ols_manual = MLE_for_OLS( y, X).fit()\n",
    "print(sm_ols_manual.summary())"
   ]
  },
  {
   "cell_type": "markdown",
   "metadata": {},
   "source": [
    "These results are very close to the ones we have found via manual encoding of MLE, and with OLS.\n",
    "\n",
    "#### 3.2. Exporting results to $\\LaTeX$\n",
    "\n",
    "The `as_latex()` command allows you to export your results in a neatly formatted TeX table. See the results of the last output when we write `print(sm_ols_manual.summary().as_latex())`. You will need the `booktabs` package for the table to compile in TeX.\n",
    "\n",
    "![tex table](https://github.com/arnauddyevre/Python-for-Social-Scientists/blob/master/statistics%20and%20econometrics/maximum%20likelihood%20and%20ldv/as_latex_table.JPG?raw=true)\n",
    "\n",
    "We can also print several estimation results next to each other, as is standard in academic papers. To this end, we use the `summary_col` command."
   ]
  },
  {
   "cell_type": "code",
   "execution_count": null,
   "metadata": {},
   "outputs": [],
   "source": [
    "from statsmodels.iolib.summary2 import summary_col\n",
    "\n",
    "# We define an empty list, it will contain the regression outputs generated by our MLE estimator\n",
    "results = []\n",
    "\n",
    "# We add one regressor at a time, and store the outputa in 'results'\n",
    "for i in range(1, 5):\n",
    "    col = MLE_for_OLS(y, X.T[0:i].T).fit()\n",
    "    results.append(col)"
   ]
  },
  {
   "cell_type": "code",
   "execution_count": null,
   "metadata": {},
   "outputs": [],
   "source": [
    "# We now use the functionalities of 'summary_col' to get a nicely formated table\n",
    "summary = summary_col(results = results,\n",
    "                      stars = True, \n",
    "                      model_names = ['intercept', '2 variables', '3 variables', 'full'],\n",
    "                      info_dict = {'Observations': lambda x: f\"{int(x.nobs):d}\"},\n",
    "                      float_format='%0.3f')\n",
    "summary.add_title('OLS by MLE')\n",
    "print(summary)"
   ]
  },
  {
   "cell_type": "markdown",
   "metadata": {},
   "source": [
    "And the TeX version, given by `print(summary.as_latex())`\n",
    "\n",
    "![table as tex](https://github.com/arnauddyevre/Python-for-Social-Scientists/blob/master/statistics%20and%20econometrics/maximum%20likelihood%20and%20ldv/as_latex_table2.JPG?raw=true)"
   ]
  },
  {
   "cell_type": "markdown",
   "metadata": {},
   "source": [
    "### 4. Discrete choice models with 'statsmodels'\n",
    "\n",
    "The strength of `statmodels` lies in the breadth of its model library. All necessary tools for performing discrete choice analysis such as logit, probit, multinomial logit, Poisson or negative binomial come in canned commands.\n",
    "\n",
    "We just show an application of the negative binomial model, as an example. All other models mentioned above are similarly implemented and we redirect you the [`statsmodels` documentation](https://www.statsmodels.org/dev/examples/notebooks/generated/discrete_choice_overview.html) on discrete choice models for more information.\n",
    "\n",
    "Negative binomial regression is used to model count variables when the dependent variable is overdispersed. It is ideal when the dependent variable has a an excess count of zeros for instance. The probability mass function (PMF) of the negative binomial distribution gives us the probability that in a sequence of Bernoulli trials, $k$ successes have occured when $r$ failures have occured. In other words, if a Bernoulli trial with probability $p$ of success has been repeated until $r$ failures have occured, the number of successes $X$ will be negative Binomial:\n",
    "\n",
    "$$X\\sim\\operatorname{NB}(r, p)$$\n",
    "\n",
    "and the PMF is\n",
    "\n",
    "$$ f(k | r, p) \\equiv \\Pr(X = k) = \\binom{k+r-1}{k} (1-p)^r p^k $$\n",
    "\n",
    "We first import a native 'statsmodels' dataset: \"RAND\". It was collected by the RAND corporation as part of a US country-wide health insurance study (1971-1986). The dependent variable is the number of visits to a doctor in a year, for a given individual. We will try to explain the number of visits by using variables such as insurance coverage, self-rated health, and number of chronic diseases."
   ]
  },
  {
   "cell_type": "code",
   "execution_count": null,
   "metadata": {},
   "outputs": [],
   "source": [
    "# Whole data\n",
    "data = sm.datasets.randhie.load(as_pandas = False)\n",
    "\n",
    "# Defining the set of exogenous variables, and adding an intercept\n",
    "exog = data.exog.view(float).reshape(len(data.exog), -1)\n",
    "exog = sm.add_constant(exog, prepend = False)"
   ]
  },
  {
   "cell_type": "markdown",
   "metadata": {},
   "source": [
    "Our dependent variable is densely distributed around 0, which makes it a good candidate for the negative binomial model."
   ]
  },
  {
   "cell_type": "code",
   "execution_count": null,
   "metadata": {},
   "outputs": [],
   "source": [
    "plt.figure(1)\n",
    "plt.hist(data.endog, bins=50)\n",
    "plt.xlim(xmin=0, xmax=40)\n",
    "plt.grid()\n",
    "plt.xlabel('Number of visits to the doctor')\n",
    "plt.ylabel('Count')\n",
    "plt.show()"
   ]
  },
  {
   "cell_type": "markdown",
   "metadata": {},
   "source": [
    "We now fit the model:"
   ]
  },
  {
   "cell_type": "code",
   "execution_count": null,
   "metadata": {},
   "outputs": [],
   "source": [
    "results_NBin = sm.NegativeBinomial(data.endog, exog).fit()\n",
    "results_NBin.summary()"
   ]
  }
 ],
 "metadata": {
  "kernelspec": {
   "display_name": "Python 3",
   "language": "python",
   "name": "python3"
  },
  "language_info": {
   "codemirror_mode": {
    "name": "ipython",
    "version": 3
   },
   "file_extension": ".py",
   "mimetype": "text/x-python",
   "name": "python",
   "nbconvert_exporter": "python",
   "pygments_lexer": "ipython3",
   "version": "3.7.3"
  }
 },
 "nbformat": 4,
 "nbformat_minor": 2
}
