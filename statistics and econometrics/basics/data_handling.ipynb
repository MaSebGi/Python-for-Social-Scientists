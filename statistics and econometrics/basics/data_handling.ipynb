{
 "cells": [
  {
   "cell_type": "markdown",
   "metadata": {},
   "source": [
    "# Data handling in Python\n",
    "\n",
    "*Monday 16, September*"
   ]
  },
  {
   "cell_type": "markdown",
   "metadata": {},
   "source": [
    "## Contents\n",
    "\n",
    "- [1. Introduction](#Introduction) \n",
    "- [2. Panda](#2. Panda) \n",
    "- [3. Matplotlib](#3. Matplotlib)  \n",
    "  "
   ]
  },
  {
   "cell_type": "markdown",
   "metadata": {},
   "source": [
    "### 1. Introduction\n",
    "\n",
    "Python is a simple programming language that would be rather unexciting by itself. For researchers, its appeal comes from the vast and endlessly growing collection of packages allowing you to do pretty much anything you want. Packages, libraries or modules (these terms are synonyms) are user-written lists of Python functions helping you do whatever you may want to achieve without requiring you to code everything.\n",
    "\n",
    "There are 3 essential modules for empirical and mathematical projects: **numpy**, **pandas** and **matplotlib**. they all serve different purposes.\n",
    "* **NumPy**, for mathematical functions and scientific computing\n",
    "* **SciPy**\n",
    "* **pandas** (shorthand for \"panel data\") for data work\n",
    "* **matplotlib**, for graphs\n",
    "\n",
    "Beyond these common modules, , we will use two other Python packages later in the course: **statsmodels** and **scikit-learn**. \n",
    "* **statsmodels** provides functions for the estimation of most statistical models, statistical tests and descriptive statistics social scientists may be interested in. It generates outputs that are similar to Stata and R's. **statsmodels** is heavily dependent on your data being structured with **panda** dataframes.\n",
    "* **scikit-learn** offers off-the-shelf functions for data mining and machine learning. It builds on **NumPy**, **SciPy** and **matplotlib**. Classification or supervised learning, clustering or unspervised learning, dimensionality reduction and model selection can all be performed with **scikit-learn**.\n",
    "\n",
    "**To summarise.** In the beginning of each Notebook or Python script, you will need to import the modules you will use. It is helpful to give short names to the modules in order to call them more easily later. To import and name modules, just follow use the syntax shown below"
   ]
  },
  {
   "cell_type": "code",
   "execution_count": 5,
   "metadata": {},
   "outputs": [],
   "source": [
    "import numpy as np\n",
    "import scipy as sp\n",
    "import pandas as pd\n",
    "import matplotlib as mp\n",
    "\n",
    "import statsmodels as sm\n",
    "import sklearn as sl"
   ]
  },
  {
   "cell_type": "markdown",
   "metadata": {},
   "source": [
    "You can call the function `help()` to get more information about a function. For instance, if we need explanations about NumPy's random number generator, we run"
   ]
  },
  {
   "cell_type": "code",
   "execution_count": 8,
   "metadata": {},
   "outputs": [
    {
     "name": "stdout",
     "output_type": "stream",
     "text": [
      "Help on built-in function rand:\n",
      "\n",
      "rand(...) method of mtrand.RandomState instance\n",
      "    rand(d0, d1, ..., dn)\n",
      "    \n",
      "    Random values in a given shape.\n",
      "    \n",
      "    Create an array of the given shape and populate it with\n",
      "    random samples from a uniform distribution\n",
      "    over ``[0, 1)``.\n",
      "    \n",
      "    Parameters\n",
      "    ----------\n",
      "    d0, d1, ..., dn : int, optional\n",
      "        The dimensions of the returned array, should all be positive.\n",
      "        If no argument is given a single Python float is returned.\n",
      "    \n",
      "    Returns\n",
      "    -------\n",
      "    out : ndarray, shape ``(d0, d1, ..., dn)``\n",
      "        Random values.\n",
      "    \n",
      "    See Also\n",
      "    --------\n",
      "    random\n",
      "    \n",
      "    Notes\n",
      "    -----\n",
      "    This is a convenience function. If you want an interface that\n",
      "    takes a shape-tuple as the first argument, refer to\n",
      "    np.random.random_sample .\n",
      "    \n",
      "    Examples\n",
      "    --------\n",
      "    >>> np.random.rand(3,2)\n",
      "    array([[ 0.14022471,  0.96360618],  #random\n",
      "           [ 0.37601032,  0.25528411],  #random\n",
      "           [ 0.49313049,  0.94909878]]) #random\n",
      "\n"
     ]
    }
   ],
   "source": [
    "help(np.random.rand)"
   ]
  },
  {
   "cell_type": "markdown",
   "metadata": {},
   "source": [
    "To know all the functions of a module, write the module name followed by a `.`, then press `TAB`. An autocomplete menu will appear. You can do the same with a function, and the menu will suggest all the different options of that function."
   ]
  },
  {
   "cell_type": "code",
   "execution_count": null,
   "metadata": {},
   "outputs": [],
   "source": [
    "np.\n",
    "np.random."
   ]
  },
  {
   "cell_type": "markdown",
   "metadata": {},
   "source": [
    "### 2. Panda\n",
    "\n",
    "The two basic objects we will manipulate when doing research with structured data are Pandas **Series** and **Dataframes**. \n",
    "\n",
    "**2.1. Series**\n",
    "\n",
    "Series are lists of integer, float, boolean or string values. By default, the values are indexed by integers starting from 0. <span style=\"color:Red\"> MATLAB users beware </span>, indexation does not start with 1 here. But you can define your own index scheme by adding `index=list('abcdef')` as an option to `Series()`. We define a few series below."
   ]
  },
  {
   "cell_type": "code",
   "execution_count": 60,
   "metadata": {},
   "outputs": [],
   "source": [
    "S1 = pd.Series([1, 1, 2, 3, 4, 5])\n",
    "S2 = pd.Series([0, 0.2 , 0.4, 0.6, 0.8, 1])\n",
    "S3 = pd.Series([1, 0.8, 0.6, 0.4, 0.2, 0] ,index=list('abcdef'))\n",
    "S4 = pd.Series(['hello','world','byebye'])\n",
    "S5 = pd.Series([True, False, True, False])\n",
    "S6 = pd.Series([0, 0.2, 'hello', True])"
   ]
  },
  {
   "cell_type": "markdown",
   "metadata": {},
   "source": [
    "You can see the content and the indices of a series by typing their names and running the code."
   ]
  },
  {
   "cell_type": "code",
   "execution_count": 55,
   "metadata": {},
   "outputs": [
    {
     "data": {
      "text/plain": [
       "0    1\n",
       "1    1\n",
       "2    2\n",
       "3    3\n",
       "4    4\n",
       "5    5\n",
       "dtype: int64"
      ]
     },
     "execution_count": 55,
     "metadata": {},
     "output_type": "execute_result"
    }
   ],
   "source": [
    "S1"
   ]
  },
  {
   "cell_type": "code",
   "execution_count": 56,
   "metadata": {},
   "outputs": [
    {
     "data": {
      "text/plain": [
       "(0    0.0\n",
       " 1    0.2\n",
       " 2    0.4\n",
       " 3    0.6\n",
       " 4    0.8\n",
       " 5    1.0\n",
       " dtype: float64, a    0.0\n",
       " b    0.2\n",
       " c    0.4\n",
       " d    0.6\n",
       " e    0.8\n",
       " f    1.0\n",
       " dtype: float64, 0     hello\n",
       " 1     world\n",
       " 2    byebye\n",
       " dtype: object, 0     True\n",
       " 1    False\n",
       " 2     True\n",
       " 3    False\n",
       " dtype: bool, 0        0\n",
       " 1      0.2\n",
       " 2    hello\n",
       " 3     True\n",
       " dtype: object)"
      ]
     },
     "execution_count": 56,
     "metadata": {},
     "output_type": "execute_result"
    }
   ],
   "source": [
    "S2, S3, S4, S5, S6"
   ]
  },
  {
   "cell_type": "markdown",
   "metadata": {},
   "source": [
    "**2.2. Indexing and functions of Series**\n",
    "\n",
    "You can get access to the values of a series separately, to its indices, to a given element, to a section of a series, and to the elements of a series that satisfy a given condition. See examples below."
   ]
  },
  {
   "cell_type": "code",
   "execution_count": 64,
   "metadata": {},
   "outputs": [
    {
     "data": {
      "text/plain": [
       "a    1.0\n",
       "b    0.8\n",
       "c    0.6\n",
       "dtype: float64"
      ]
     },
     "execution_count": 64,
     "metadata": {},
     "output_type": "execute_result"
    }
   ],
   "source": [
    "S4.values       # display all the values of S4\n",
    "S3.index        # display indices of S3\n",
    "S5[0]           # first value of S5\n",
    "S5[:]           # all values of S5\n",
    "S5[1:3]         # 3 first values of  S5\n",
    "S2[[5, 3, 1]]   # values of S2 indexed by 5, 3 and 1\n",
    "S3[['f', 'b']]  # value of S3 indexed by g and b\n",
    "S3 > 0.5        # returns a series of booleans, resulting from evaluating the condition at each value of S3\n",
    "S3[S3 > 0.5]    # only returns the values of S3 satisfying the condition"
   ]
  },
  {
   "cell_type": "markdown",
   "metadata": {},
   "source": [
    "Some Series function can be useful. See below."
   ]
  },
  {
   "cell_type": "code",
   "execution_count": 63,
   "metadata": {},
   "outputs": [
    {
     "data": {
      "text/plain": [
       "0     True\n",
       "1     True\n",
       "2    False\n",
       "3     True\n",
       "4    False\n",
       "5     True\n",
       "dtype: bool"
      ]
     },
     "execution_count": 63,
     "metadata": {},
     "output_type": "execute_result"
    }
   ],
   "source": [
    "S1.size           # returns the number of values (scalar)\n",
    "S1.prod()         # product of all values (scalar)\n",
    "S1.sum()          # sum of all values (scalar)\n",
    "S1.cumsum()       # sumulative sum (vector)\n",
    "S1.max()          # maximum (scalar)\n",
    "S1.idxmax()       # maximum index (scalar)\n",
    "S2.round()        # series rounded to the nearest integer (float vector)\n",
    "np.ceil(S2)       # series rounded up (float vector)\n",
    "np.floor(S2)      # series rounded down (float vector)\n",
    "S1.unique()       # series of unique values\n",
    "S3.sort_values()  # values sorted in ascending order\n",
    "S1.sort_index(ascending=False)  # sort in descending order of indices\n",
    "S1.isin([1,3,5,7,9])            # returns series of booleans equal to \"True\" if the value is in the list of values provided"
   ]
  },
  {
   "cell_type": "markdown",
   "metadata": {},
   "source": [
    "**2.3. Missing values**\n",
    "\n",
    "In Pandas, a missing value is coded `NaN` for \"Not a Number\". It is also the result given by Python after a forbidden mathematical operation such as"
   ]
  },
  {
   "cell_type": "code",
   "execution_count": 65,
   "metadata": {},
   "outputs": [
    {
     "name": "stderr",
     "output_type": "stream",
     "text": [
      "C:\\Users\\dyevre\\AppData\\Local\\Continuum\\anaconda3\\lib\\site-packages\\ipykernel_launcher.py:1: RuntimeWarning: invalid value encountered in sqrt\n",
      "  \"\"\"Entry point for launching an IPython kernel.\n"
     ]
    },
    {
     "data": {
      "text/plain": [
       "nan"
      ]
     },
     "execution_count": 65,
     "metadata": {},
     "output_type": "execute_result"
    }
   ],
   "source": [
    "np.sqrt(-2)"
   ]
  },
  {
   "cell_type": "markdown",
   "metadata": {},
   "source": [
    "The count function does not count `NaN` as values. Let's see how by replacing a value in a series by a forbidden mathematical operation"
   ]
  },
  {
   "cell_type": "code",
   "execution_count": 66,
   "metadata": {},
   "outputs": [
    {
     "data": {
      "text/plain": [
       "6"
      ]
     },
     "execution_count": 66,
     "metadata": {},
     "output_type": "execute_result"
    }
   ],
   "source": [
    "S1.count()"
   ]
  },
  {
   "cell_type": "code",
   "execution_count": 67,
   "metadata": {},
   "outputs": [
    {
     "data": {
      "text/plain": [
       "5"
      ]
     },
     "execution_count": 67,
     "metadata": {},
     "output_type": "execute_result"
    }
   ],
   "source": [
    "S1[1] = np.inf - np.inf\n",
    "S1.count()"
   ]
  },
  {
   "cell_type": "code",
   "execution_count": 68,
   "metadata": {},
   "outputs": [
    {
     "data": {
      "text/plain": [
       "0    1.0\n",
       "1    NaN\n",
       "2    2.0\n",
       "3    3.0\n",
       "4    4.0\n",
       "5    5.0\n",
       "dtype: float64"
      ]
     },
     "execution_count": 68,
     "metadata": {},
     "output_type": "execute_result"
    }
   ],
   "source": [
    "S1"
   ]
  },
  {
   "cell_type": "markdown",
   "metadata": {},
   "source": [
    "The function `isnull()` returns a series of boolean equals to `True` if the value of the original series is not `NaN` and `False` otherwise."
   ]
  },
  {
   "cell_type": "code",
   "execution_count": 69,
   "metadata": {},
   "outputs": [
    {
     "data": {
      "text/plain": [
       "0    False\n",
       "1     True\n",
       "2    False\n",
       "3    False\n",
       "4    False\n",
       "5    False\n",
       "dtype: bool"
      ]
     },
     "execution_count": 69,
     "metadata": {},
     "output_type": "execute_result"
    }
   ],
   "source": [
    "S1.isnull()"
   ]
  },
  {
   "cell_type": "markdown",
   "metadata": {},
   "source": [
    "When cleaning data in Python, we can delete all the `NaN` of a Series with the `dropna` function. This delete the missing values, yet it keep the old indexation."
   ]
  },
  {
   "cell_type": "code",
   "execution_count": 72,
   "metadata": {},
   "outputs": [
    {
     "data": {
      "text/plain": [
       "0    1.0\n",
       "2    2.0\n",
       "3    3.0\n",
       "4    4.0\n",
       "5    5.0\n",
       "dtype: float64"
      ]
     },
     "execution_count": 72,
     "metadata": {},
     "output_type": "execute_result"
    }
   ],
   "source": [
    "S1 = S1.dropna()\n",
    "S1"
   ]
  },
  {
   "cell_type": "markdown",
   "metadata": {},
   "source": [
    "**2.4. Data frames**\n",
    "\n",
    "In Pandas, a data frame is simply a table of structure data, with variables as columns and observations as rows. Each column can have a **label** that we can simply assimilate to a variable name here. By default, observations are indexed by integers, starting from 0, but we can re-index observation at will.\n",
    "\n",
    "We create below a data frame of 10 observations of 3 random numbers from the uniform distribution in $[0, 1)$"
   ]
  },
  {
   "cell_type": "code",
   "execution_count": 78,
   "metadata": {},
   "outputs": [
    {
     "data": {
      "text/html": [
       "<div>\n",
       "<style scoped>\n",
       "    .dataframe tbody tr th:only-of-type {\n",
       "        vertical-align: middle;\n",
       "    }\n",
       "\n",
       "    .dataframe tbody tr th {\n",
       "        vertical-align: top;\n",
       "    }\n",
       "\n",
       "    .dataframe thead th {\n",
       "        text-align: right;\n",
       "    }\n",
       "</style>\n",
       "<table border=\"1\" class=\"dataframe\">\n",
       "  <thead>\n",
       "    <tr style=\"text-align: right;\">\n",
       "      <th></th>\n",
       "      <th>0</th>\n",
       "      <th>1</th>\n",
       "      <th>2</th>\n",
       "    </tr>\n",
       "  </thead>\n",
       "  <tbody>\n",
       "    <tr>\n",
       "      <th>0</th>\n",
       "      <td>0.745625</td>\n",
       "      <td>0.503069</td>\n",
       "      <td>0.705821</td>\n",
       "    </tr>\n",
       "    <tr>\n",
       "      <th>1</th>\n",
       "      <td>0.048162</td>\n",
       "      <td>0.612890</td>\n",
       "      <td>0.697716</td>\n",
       "    </tr>\n",
       "    <tr>\n",
       "      <th>2</th>\n",
       "      <td>0.159873</td>\n",
       "      <td>0.670215</td>\n",
       "      <td>0.363837</td>\n",
       "    </tr>\n",
       "    <tr>\n",
       "      <th>3</th>\n",
       "      <td>0.636976</td>\n",
       "      <td>0.636980</td>\n",
       "      <td>0.597105</td>\n",
       "    </tr>\n",
       "    <tr>\n",
       "      <th>4</th>\n",
       "      <td>0.627611</td>\n",
       "      <td>0.501120</td>\n",
       "      <td>0.937945</td>\n",
       "    </tr>\n",
       "    <tr>\n",
       "      <th>5</th>\n",
       "      <td>0.560617</td>\n",
       "      <td>0.310853</td>\n",
       "      <td>0.217623</td>\n",
       "    </tr>\n",
       "    <tr>\n",
       "      <th>6</th>\n",
       "      <td>0.197659</td>\n",
       "      <td>0.982266</td>\n",
       "      <td>0.084955</td>\n",
       "    </tr>\n",
       "    <tr>\n",
       "      <th>7</th>\n",
       "      <td>0.933875</td>\n",
       "      <td>0.903979</td>\n",
       "      <td>0.144268</td>\n",
       "    </tr>\n",
       "    <tr>\n",
       "      <th>8</th>\n",
       "      <td>0.028542</td>\n",
       "      <td>0.111783</td>\n",
       "      <td>0.315832</td>\n",
       "    </tr>\n",
       "    <tr>\n",
       "      <th>9</th>\n",
       "      <td>0.382338</td>\n",
       "      <td>0.855089</td>\n",
       "      <td>0.591182</td>\n",
       "    </tr>\n",
       "  </tbody>\n",
       "</table>\n",
       "</div>"
      ],
      "text/plain": [
       "          0         1         2\n",
       "0  0.745625  0.503069  0.705821\n",
       "1  0.048162  0.612890  0.697716\n",
       "2  0.159873  0.670215  0.363837\n",
       "3  0.636976  0.636980  0.597105\n",
       "4  0.627611  0.501120  0.937945\n",
       "5  0.560617  0.310853  0.217623\n",
       "6  0.197659  0.982266  0.084955\n",
       "7  0.933875  0.903979  0.144268\n",
       "8  0.028542  0.111783  0.315832\n",
       "9  0.382338  0.855089  0.591182"
      ]
     },
     "execution_count": 78,
     "metadata": {},
     "output_type": "execute_result"
    }
   ],
   "source": [
    "randomTable = pd.DataFrame(np.random.rand(10,3))\n",
    "randomTable"
   ]
  },
  {
   "cell_type": "markdown",
   "metadata": {},
   "source": [
    "We can index the rows differently, for instance by making them start from 1. To do so, we define a Pandas Series and define it as the index."
   ]
  },
  {
   "cell_type": "code",
   "execution_count": 79,
   "metadata": {},
   "outputs": [
    {
     "data": {
      "text/plain": [
       "0     1\n",
       "1     2\n",
       "2     3\n",
       "3     4\n",
       "4     5\n",
       "5     6\n",
       "6     7\n",
       "7     8\n",
       "8     9\n",
       "9    10\n",
       "dtype: int64"
      ]
     },
     "execution_count": 79,
     "metadata": {},
     "output_type": "execute_result"
    }
   ],
   "source": [
    "obs = pd.Series([1, 2, 3, 4, 5, 6, 7, 8, 9, 10])\n",
    "obs"
   ]
  },
  {
   "cell_type": "code",
   "execution_count": 80,
   "metadata": {},
   "outputs": [
    {
     "data": {
      "text/html": [
       "<div>\n",
       "<style scoped>\n",
       "    .dataframe tbody tr th:only-of-type {\n",
       "        vertical-align: middle;\n",
       "    }\n",
       "\n",
       "    .dataframe tbody tr th {\n",
       "        vertical-align: top;\n",
       "    }\n",
       "\n",
       "    .dataframe thead th {\n",
       "        text-align: right;\n",
       "    }\n",
       "</style>\n",
       "<table border=\"1\" class=\"dataframe\">\n",
       "  <thead>\n",
       "    <tr style=\"text-align: right;\">\n",
       "      <th></th>\n",
       "      <th>0</th>\n",
       "      <th>1</th>\n",
       "      <th>2</th>\n",
       "    </tr>\n",
       "  </thead>\n",
       "  <tbody>\n",
       "    <tr>\n",
       "      <th>1</th>\n",
       "      <td>0.745625</td>\n",
       "      <td>0.503069</td>\n",
       "      <td>0.705821</td>\n",
       "    </tr>\n",
       "    <tr>\n",
       "      <th>2</th>\n",
       "      <td>0.048162</td>\n",
       "      <td>0.612890</td>\n",
       "      <td>0.697716</td>\n",
       "    </tr>\n",
       "    <tr>\n",
       "      <th>3</th>\n",
       "      <td>0.159873</td>\n",
       "      <td>0.670215</td>\n",
       "      <td>0.363837</td>\n",
       "    </tr>\n",
       "    <tr>\n",
       "      <th>4</th>\n",
       "      <td>0.636976</td>\n",
       "      <td>0.636980</td>\n",
       "      <td>0.597105</td>\n",
       "    </tr>\n",
       "    <tr>\n",
       "      <th>5</th>\n",
       "      <td>0.627611</td>\n",
       "      <td>0.501120</td>\n",
       "      <td>0.937945</td>\n",
       "    </tr>\n",
       "    <tr>\n",
       "      <th>6</th>\n",
       "      <td>0.560617</td>\n",
       "      <td>0.310853</td>\n",
       "      <td>0.217623</td>\n",
       "    </tr>\n",
       "    <tr>\n",
       "      <th>7</th>\n",
       "      <td>0.197659</td>\n",
       "      <td>0.982266</td>\n",
       "      <td>0.084955</td>\n",
       "    </tr>\n",
       "    <tr>\n",
       "      <th>8</th>\n",
       "      <td>0.933875</td>\n",
       "      <td>0.903979</td>\n",
       "      <td>0.144268</td>\n",
       "    </tr>\n",
       "    <tr>\n",
       "      <th>9</th>\n",
       "      <td>0.028542</td>\n",
       "      <td>0.111783</td>\n",
       "      <td>0.315832</td>\n",
       "    </tr>\n",
       "    <tr>\n",
       "      <th>10</th>\n",
       "      <td>0.382338</td>\n",
       "      <td>0.855089</td>\n",
       "      <td>0.591182</td>\n",
       "    </tr>\n",
       "  </tbody>\n",
       "</table>\n",
       "</div>"
      ],
      "text/plain": [
       "           0         1         2\n",
       "1   0.745625  0.503069  0.705821\n",
       "2   0.048162  0.612890  0.697716\n",
       "3   0.159873  0.670215  0.363837\n",
       "4   0.636976  0.636980  0.597105\n",
       "5   0.627611  0.501120  0.937945\n",
       "6   0.560617  0.310853  0.217623\n",
       "7   0.197659  0.982266  0.084955\n",
       "8   0.933875  0.903979  0.144268\n",
       "9   0.028542  0.111783  0.315832\n",
       "10  0.382338  0.855089  0.591182"
      ]
     },
     "execution_count": 80,
     "metadata": {},
     "output_type": "execute_result"
    }
   ],
   "source": [
    "randomTable.set_index(obs)"
   ]
  },
  {
   "cell_type": "markdown",
   "metadata": {},
   "source": [
    "We can add variable names by creating a list."
   ]
  },
  {
   "cell_type": "code",
   "execution_count": 87,
   "metadata": {},
   "outputs": [
    {
     "data": {
      "text/html": [
       "<div>\n",
       "<style scoped>\n",
       "    .dataframe tbody tr th:only-of-type {\n",
       "        vertical-align: middle;\n",
       "    }\n",
       "\n",
       "    .dataframe tbody tr th {\n",
       "        vertical-align: top;\n",
       "    }\n",
       "\n",
       "    .dataframe thead th {\n",
       "        text-align: right;\n",
       "    }\n",
       "</style>\n",
       "<table border=\"1\" class=\"dataframe\">\n",
       "  <thead>\n",
       "    <tr style=\"text-align: right;\">\n",
       "      <th></th>\n",
       "      <th>A</th>\n",
       "      <th>B</th>\n",
       "      <th>C</th>\n",
       "    </tr>\n",
       "  </thead>\n",
       "  <tbody>\n",
       "    <tr>\n",
       "      <th>0</th>\n",
       "      <td>0.745625</td>\n",
       "      <td>0.503069</td>\n",
       "      <td>0.705821</td>\n",
       "    </tr>\n",
       "    <tr>\n",
       "      <th>1</th>\n",
       "      <td>0.048162</td>\n",
       "      <td>0.612890</td>\n",
       "      <td>0.697716</td>\n",
       "    </tr>\n",
       "    <tr>\n",
       "      <th>2</th>\n",
       "      <td>0.159873</td>\n",
       "      <td>0.670215</td>\n",
       "      <td>0.363837</td>\n",
       "    </tr>\n",
       "    <tr>\n",
       "      <th>3</th>\n",
       "      <td>0.636976</td>\n",
       "      <td>0.636980</td>\n",
       "      <td>0.597105</td>\n",
       "    </tr>\n",
       "    <tr>\n",
       "      <th>4</th>\n",
       "      <td>0.627611</td>\n",
       "      <td>0.501120</td>\n",
       "      <td>0.937945</td>\n",
       "    </tr>\n",
       "    <tr>\n",
       "      <th>5</th>\n",
       "      <td>0.560617</td>\n",
       "      <td>0.310853</td>\n",
       "      <td>0.217623</td>\n",
       "    </tr>\n",
       "    <tr>\n",
       "      <th>6</th>\n",
       "      <td>0.197659</td>\n",
       "      <td>0.982266</td>\n",
       "      <td>0.084955</td>\n",
       "    </tr>\n",
       "    <tr>\n",
       "      <th>7</th>\n",
       "      <td>0.933875</td>\n",
       "      <td>0.903979</td>\n",
       "      <td>0.144268</td>\n",
       "    </tr>\n",
       "    <tr>\n",
       "      <th>8</th>\n",
       "      <td>0.028542</td>\n",
       "      <td>0.111783</td>\n",
       "      <td>0.315832</td>\n",
       "    </tr>\n",
       "    <tr>\n",
       "      <th>9</th>\n",
       "      <td>0.382338</td>\n",
       "      <td>0.855089</td>\n",
       "      <td>0.591182</td>\n",
       "    </tr>\n",
       "  </tbody>\n",
       "</table>\n",
       "</div>"
      ],
      "text/plain": [
       "          A         B         C\n",
       "0  0.745625  0.503069  0.705821\n",
       "1  0.048162  0.612890  0.697716\n",
       "2  0.159873  0.670215  0.363837\n",
       "3  0.636976  0.636980  0.597105\n",
       "4  0.627611  0.501120  0.937945\n",
       "5  0.560617  0.310853  0.217623\n",
       "6  0.197659  0.982266  0.084955\n",
       "7  0.933875  0.903979  0.144268\n",
       "8  0.028542  0.111783  0.315832\n",
       "9  0.382338  0.855089  0.591182"
      ]
     },
     "execution_count": 87,
     "metadata": {},
     "output_type": "execute_result"
    }
   ],
   "source": [
    "columnNames = pd.Series(['A', 'B', 'C'])\n",
    "randomTable.columns = columnNames\n",
    "randomTable"
   ]
  },
  {
   "cell_type": "markdown",
   "metadata": {},
   "source": [
    "Let's rename variables separately, just like with STATA's `rename` function."
   ]
  },
  {
   "cell_type": "code",
   "execution_count": null,
   "metadata": {},
   "outputs": [],
   "source": [
    "#randomTable.rename(columns={\"A\": \"a\"})\n",
    "#randomTable.rename(columns={\"B\": \"b\", \"C\": \"c\"})\n",
    "randomTable.rename(columns={'A': 'a', 'B': 'c'})\n",
    "randomTable\n",
    "NOT WORKING: TO BE REVISED"
   ]
  },
  {
   "cell_type": "markdown",
   "metadata": {},
   "source": [
    "We can define data frames more explicitely, by defining column after column as a label and a series."
   ]
  },
  {
   "cell_type": "code",
   "execution_count": 110,
   "metadata": {},
   "outputs": [
    {
     "data": {
      "text/html": [
       "<div>\n",
       "<style scoped>\n",
       "    .dataframe tbody tr th:only-of-type {\n",
       "        vertical-align: middle;\n",
       "    }\n",
       "\n",
       "    .dataframe tbody tr th {\n",
       "        vertical-align: top;\n",
       "    }\n",
       "\n",
       "    .dataframe thead th {\n",
       "        text-align: right;\n",
       "    }\n",
       "</style>\n",
       "<table border=\"1\" class=\"dataframe\">\n",
       "  <thead>\n",
       "    <tr style=\"text-align: right;\">\n",
       "      <th></th>\n",
       "      <th>Date</th>\n",
       "      <th>Topic</th>\n",
       "      <th>Alphabetical index</th>\n",
       "      <th>Numerical index</th>\n",
       "    </tr>\n",
       "  </thead>\n",
       "  <tbody>\n",
       "    <tr>\n",
       "      <th>0</th>\n",
       "      <td>2019-09-16</td>\n",
       "      <td>Version control</td>\n",
       "      <td>a</td>\n",
       "      <td>1.0</td>\n",
       "    </tr>\n",
       "    <tr>\n",
       "      <th>1</th>\n",
       "      <td>2019-09-17</td>\n",
       "      <td>Cloud computing</td>\n",
       "      <td>b</td>\n",
       "      <td>2.0</td>\n",
       "    </tr>\n",
       "    <tr>\n",
       "      <th>2</th>\n",
       "      <td>2019-09-18</td>\n",
       "      <td>Intro to Python</td>\n",
       "      <td>c</td>\n",
       "      <td>3.0</td>\n",
       "    </tr>\n",
       "    <tr>\n",
       "      <th>3</th>\n",
       "      <td>2019-09-19</td>\n",
       "      <td>Basics of data handling</td>\n",
       "      <td>d</td>\n",
       "      <td>4.0</td>\n",
       "    </tr>\n",
       "    <tr>\n",
       "      <th>4</th>\n",
       "      <td>2019-09-20</td>\n",
       "      <td>OLS, GLS, IV and NLLS</td>\n",
       "      <td>e</td>\n",
       "      <td>5.0</td>\n",
       "    </tr>\n",
       "    <tr>\n",
       "      <th>5</th>\n",
       "      <td>2019-09-21</td>\n",
       "      <td>WEEKEND</td>\n",
       "      <td>f</td>\n",
       "      <td>6.0</td>\n",
       "    </tr>\n",
       "    <tr>\n",
       "      <th>6</th>\n",
       "      <td>2019-09-22</td>\n",
       "      <td>WEEKEND</td>\n",
       "      <td>g</td>\n",
       "      <td>7.0</td>\n",
       "    </tr>\n",
       "    <tr>\n",
       "      <th>7</th>\n",
       "      <td>2019-09-23</td>\n",
       "      <td>MLE</td>\n",
       "      <td>h</td>\n",
       "      <td>8.0</td>\n",
       "    </tr>\n",
       "    <tr>\n",
       "      <th>8</th>\n",
       "      <td>2019-09-24</td>\n",
       "      <td>Time Series</td>\n",
       "      <td>i</td>\n",
       "      <td>9.0</td>\n",
       "    </tr>\n",
       "    <tr>\n",
       "      <th>9</th>\n",
       "      <td>2019-09-25</td>\n",
       "      <td>-No class-</td>\n",
       "      <td>j</td>\n",
       "      <td>10.0</td>\n",
       "    </tr>\n",
       "    <tr>\n",
       "      <th>10</th>\n",
       "      <td>2019-09-26</td>\n",
       "      <td>GMM</td>\n",
       "      <td>k</td>\n",
       "      <td>11.0</td>\n",
       "    </tr>\n",
       "    <tr>\n",
       "      <th>11</th>\n",
       "      <td>2019-09-27</td>\n",
       "      <td>Intro to machine learning</td>\n",
       "      <td>l</td>\n",
       "      <td>12.0</td>\n",
       "    </tr>\n",
       "  </tbody>\n",
       "</table>\n",
       "</div>"
      ],
      "text/plain": [
       "         Date                      Topic Alphabetical index  Numerical index\n",
       "0  2019-09-16            Version control                  a              1.0\n",
       "1  2019-09-17            Cloud computing                  b              2.0\n",
       "2  2019-09-18            Intro to Python                  c              3.0\n",
       "3  2019-09-19    Basics of data handling                  d              4.0\n",
       "4  2019-09-20      OLS, GLS, IV and NLLS                  e              5.0\n",
       "5  2019-09-21                    WEEKEND                  f              6.0\n",
       "6  2019-09-22                    WEEKEND                  g              7.0\n",
       "7  2019-09-23                        MLE                  h              8.0\n",
       "8  2019-09-24                Time Series                  i              9.0\n",
       "9  2019-09-25                 -No class-                  j             10.0\n",
       "10 2019-09-26                        GMM                  k             11.0\n",
       "11 2019-09-27  Intro to machine learning                  l             12.0"
      ]
     },
     "execution_count": 110,
     "metadata": {},
     "output_type": "execute_result"
    }
   ],
   "source": [
    "syllabus = pd.DataFrame({ 'Date' : pd.date_range('20190916', '20190927'),   # creates a series of dates from 16/09/2019 to 27/09/2019\n",
    "    'Topic' : pd.Categorical([\"Version control\",\"Cloud computing\",\"Intro to Python\",\"Basics of data handling\",\"OLS, GLS, IV and NLLS\",\"WEEKEND\",\"WEEKEND\",\"MLE\",\"Time Series\",\"-No class-\",\"GMM\",\"Intro to machine learning\"]), # string variable of topics\n",
    "    'Alphabetical index' : list('abcdefghijkl'),                            # another index, defined as a list\n",
    "    'Numerical index' : np.linspace(1, 12, 12)   })                         # another index, defined with a useful NumPy function\n",
    "\n",
    "syllabus"
   ]
  },
  {
   "cell_type": "markdown",
   "metadata": {},
   "source": [
    "### 3. SciPy"
   ]
  },
  {
   "cell_type": "markdown",
   "metadata": {},
   "source": [
    "### 3. Matplotlib"
   ]
  },
  {
   "cell_type": "markdown",
   "metadata": {},
   "source": [
    "### 4. SciPy"
   ]
  },
  {
   "cell_type": "markdown",
   "metadata": {},
   "source": [
    "### 5. Statsmodels"
   ]
  },
  {
   "cell_type": "markdown",
   "metadata": {},
   "source": [
    "### 6. Scikit-learn"
   ]
  },
  {
   "cell_type": "code",
   "execution_count": null,
   "metadata": {},
   "outputs": [],
   "source": []
  }
 ],
 "metadata": {
  "kernelspec": {
   "display_name": "Python 3",
   "language": "python",
   "name": "python3"
  },
  "language_info": {
   "codemirror_mode": {
    "name": "ipython",
    "version": 3
   },
   "file_extension": ".py",
   "mimetype": "text/x-python",
   "name": "python",
   "nbconvert_exporter": "python",
   "pygments_lexer": "ipython3",
   "version": "3.7.3"
  }
 },
 "nbformat": 4,
 "nbformat_minor": 2
}
