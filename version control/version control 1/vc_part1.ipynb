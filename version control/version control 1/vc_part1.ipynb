{
  "nbformat": 4,
  "nbformat_minor": 0,
  "metadata": {
    "colab": {
      "name": "vc-part1.ipynb",
      "version": "0.3.2",
      "provenance": [],
      "collapsed_sections": [],
      "toc_visible": true
    },
    "kernelspec": {
      "name": "python3",
      "display_name": "Python 3"
    }
  },
  "cells": [
    {
      "cell_type": "markdown",
      "metadata": {
        "id": "S6iWQI8wso8f",
        "colab_type": "text"
      },
      "source": [
        "# Version control, `git` and github"
      ]
    },
    {
      "cell_type": "markdown",
      "metadata": {
        "id": "-kfYH5mwsxpC",
        "colab_type": "text"
      },
      "source": [
        "## Version control and git\n",
        "\n",
        "*Version control* means:\n",
        "\n",
        "> tracking the changes of the files\n",
        "\n",
        "\n",
        "\n",
        "*Git* is a version-control tool developed by Linus Torvalds, initial released in 7 April 2005.\n",
        "With *Git*, you can:\n",
        "\n",
        "*   labeling, recording and reversing any changes in the files\n",
        "*   managing the project in a collaborative working environment\n",
        "\n",
        "![Git](https://ma.ttias.be/wp-content/uploads/2015/12/git_push_deploy.png)"
      ]
    },
    {
      "cell_type": "markdown",
      "metadata": {
        "id": "Ug3S4fC7xmy1",
        "colab_type": "text"
      },
      "source": [
        "## Online interactive git platforms and clients"
      ]
    },
    {
      "cell_type": "markdown",
      "metadata": {
        "id": "_RlGzyTbyY-d",
        "colab_type": "text"
      },
      "source": [
        "### [Github: our choice for this course](https://github.com/)\n",
        "![Github](https://miro.medium.com/max/700/1*aFHTAkhTkyWD93-UGRttPw.png)\n",
        "\n",
        "\n",
        "1.   Online website\n",
        "\n",
        "Create a github account\n",
        "\n",
        "![create an account](https://discourse-user-assets.s3.dualstack.us-east-1.amazonaws.com/optimized/3X/7/8/784510577177dae83a1e6d63726386a4f2d0fea2_2_690x388.png)\n",
        "\n",
        "Link with the university email\n",
        "\n",
        "![Student Developer Pack](https://dzone.com/storage/temp/2204421-github-student-pack.png)"
      ]
    },
    {
      "cell_type": "markdown",
      "metadata": {
        "id": "wY8Ad2za1vd5",
        "colab_type": "text"
      },
      "source": [
        "2.   Installation guide for different operating systems\n",
        "\n"
      ]
    },
    {
      "cell_type": "code",
      "metadata": {
        "id": "LKtX1DdP17f9",
        "colab_type": "code",
        "outputId": "8d1ad5ff-25af-474a-fafd-00c5edf4b777",
        "colab": {
          "base_uri": "https://localhost:8080/",
          "height": 322
        }
      },
      "source": [
        "# Windows\n",
        "from IPython.display import YouTubeVideo\n",
        "YouTubeVideo('qtxWg3kOnd0')"
      ],
      "execution_count": 0,
      "outputs": [
        {
          "output_type": "execute_result",
          "data": {
            "text/html": [
              "\n",
              "        <iframe\n",
              "            width=\"400\"\n",
              "            height=\"300\"\n",
              "            src=\"https://www.youtube.com/embed/qtxWg3kOnd0\"\n",
              "            frameborder=\"0\"\n",
              "            allowfullscreen\n",
              "        ></iframe>\n",
              "        "
            ],
            "text/plain": [
              "<IPython.lib.display.YouTubeVideo at 0x7fcec92a5b38>"
            ],
            "image/jpeg": "[encoded data removed]"
          },
          "metadata": {
            "tags": []
          },
          "execution_count": 3
        }
      ]
    },
    {
      "cell_type": "code",
      "metadata": {
        "id": "bR4iF-Zi2Xwu",
        "colab_type": "code",
        "outputId": "d74fb131-df3a-4693-8728-e77f4adfbcb0",
        "colab": {
          "base_uri": "https://localhost:8080/",
          "height": 322
        }
      },
      "source": [
        "# Mac OS X\n",
        "from IPython.display import YouTubeVideo\n",
        "YouTubeVideo('ci3W1T88mzw')"
      ],
      "execution_count": 0,
      "outputs": [
        {
          "output_type": "execute_result",
          "data": {
            "text/html": [
              "\n",
              "        <iframe\n",
              "            width=\"400\"\n",
              "            height=\"300\"\n",
              "            src=\"https://www.youtube.com/embed/ci3W1T88mzw\"\n",
              "            frameborder=\"0\"\n",
              "            allowfullscreen\n",
              "        ></iframe>\n",
              "        "
            ],
            "text/plain": [
              "<IPython.lib.display.YouTubeVideo at 0x7fcec92a5748>"
            ],
            "image/jpeg": "[encoded data removed]"
          },
          "metadata": {
            "tags": []
          },
          "execution_count": 4
        }
      ]
    },
    {
      "cell_type": "markdown",
      "metadata": {
        "id": "hTpWf9wM14eP",
        "colab_type": "text"
      },
      "source": [
        "Unfortunately, Github doesn't provide official client for Linux system, a good substitute will be [Gitkraken](https://www.gitkraken.com/)\n",
        "\n",
        "![Interface of GitKraken](https://www.gitkraken.com/img/misc/gitkraken.gif)\n",
        "\n"
      ]
    },
    {
      "cell_type": "markdown",
      "metadata": {
        "id": "VToDeoWOybLV",
        "colab_type": "text"
      },
      "source": [
        "###  [Gitlab](https://about.gitlab.com/)\n",
        "\n",
        "![Gitlab](https://miro.medium.com/max/700/1*0pTgaiHFknWZpv4FUnUQPA.png)"
      ]
    },
    {
      "cell_type": "markdown",
      "metadata": {
        "id": "ifo-Og69yd1v",
        "colab_type": "text"
      },
      "source": [
        "###  [Bitbucket](https://bitbucket.org/product)\n",
        "![Bitbucket](https://upload.wikimedia.org/wikipedia/commons/3/32/Atlassian_Bitbucket_Logo.png)"
      ]
    },
    {
      "cell_type": "markdown",
      "metadata": {
        "id": "LtnPQUJnLWTK",
        "colab_type": "text"
      },
      "source": [
        "## Basic concepts"
      ]
    },
    {
      "cell_type": "markdown",
      "metadata": {
        "id": "J4tj21_pLjow",
        "colab_type": "text"
      },
      "source": [
        "### Repository\n",
        "\n",
        "> A repository is like a folder for your project. Your project's repository contains all of your project's files and stores each file's revision history. You can also discuss and manage your project's work within the repository.\n",
        "\n",
        "\n",
        "A typical repository on the Github looks like: https://github.com/amplab/spark-ec2\n",
        "\n",
        "![repo](https://static.packt-cdn.com/products/9781785889271/graphics/image_01_010.jpg)"
      ]
    },
    {
      "cell_type": "markdown",
      "metadata": {
        "id": "GAumzk-eLtRY",
        "colab_type": "text"
      },
      "source": [
        "### common files\n",
        "\n",
        "\n",
        "*   `.gitignore`: \n",
        "\n",
        "\n",
        "> From time to time, there are files you don't want Git to check in to GitHub. There are a few ways to tell Git which files to ignore.\n",
        "\n",
        "\n",
        "*   `README.md`\n",
        "\n",
        "\n",
        "> A summary of the project\n",
        "\n",
        "\n"
      ]
    },
    {
      "cell_type": "markdown",
      "metadata": {
        "id": "1mcGBS3042wQ",
        "colab_type": "text"
      },
      "source": [
        "### workflow of a project\n",
        "\n",
        "![workflow](https://guides.github.com/activities/hello-world/branching.png)\n",
        "\n",
        "https://guides.github.com/introduction/flow/"
      ]
    },
    {
      "cell_type": "markdown",
      "metadata": {
        "id": "dWK38MSUL2Jf",
        "colab_type": "text"
      },
      "source": [
        "## Using `git` to manage a personal project"
      ]
    },
    {
      "cell_type": "markdown",
      "metadata": {
        "id": "TDeiRPKZMnCm",
        "colab_type": "text"
      },
      "source": [
        "### create a repository\n",
        "\n",
        "https://help.github.com/en/articles/create-a-repo\n",
        "\n",
        "![create](https://help.github.com/assets/images/help/repository/create-repository-public-private.png)"
      ]
    },
    {
      "cell_type": "markdown",
      "metadata": {
        "id": "FGiJRvRbL6eV",
        "colab_type": "text"
      },
      "source": [
        "### clone a repository\n",
        "\n",
        "https://help.github.com/en/articles/cloning-a-repository\n",
        "\n",
        "![clone](https://help.github.com/assets/images/help/repository/clone-repo-clone-url-button.png)"
      ]
    },
    {
      "cell_type": "markdown",
      "metadata": {
        "id": "KDDqgHnAT44h",
        "colab_type": "text"
      },
      "source": [
        "### make a branch\n",
        "\n",
        "![branch](https://guides.github.com/activities/hello-world/readme-edits.gif)"
      ]
    },
    {
      "cell_type": "markdown",
      "metadata": {
        "id": "qhfQYzdaL_oU",
        "colab_type": "text"
      },
      "source": [
        "### commit a change\n",
        "\n",
        "![commit](https://www.hibbittsdesign.org/blog/user/pages/01.posts/2016-04-04-using-github-desktop-and-gitlab-with-Grav/github-desktop-first-commit.png)"
      ]
    },
    {
      "cell_type": "markdown",
      "metadata": {
        "id": "uBxIhiL1Or09",
        "colab_type": "text"
      },
      "source": [
        "### revert a change\n",
        "\n",
        "https://help.github.com/en/desktop/contributing-to-projects/reverting-a-commit\n",
        "\n",
        "![revert](https://help.github.com/assets/images/help/desktop/commit-revert-mac.png)"
      ]
    },
    {
      "cell_type": "markdown",
      "metadata": {
        "id": "EwOQmImoM65T",
        "colab_type": "text"
      },
      "source": [
        "### pull a request\n",
        "\n",
        "![push](https://s3-ap-southeast-2.amazonaws.com/lectures.quantecon.org/jl/_static/figures/git-dropdown.png)"
      ]
    },
    {
      "cell_type": "markdown",
      "metadata": {
        "id": "Mzz0ZXR-MCl0",
        "colab_type": "text"
      },
      "source": [
        "### remove a repository\n",
        "\n",
        "![delete](https://i.stack.imgur.com/VNswx.png)"
      ]
    },
    {
      "cell_type": "markdown",
      "metadata": {
        "id": "BlGHWtiTOyTC",
        "colab_type": "text"
      },
      "source": [
        "## Using `git` to manage a collaborative project"
      ]
    },
    {
      "cell_type": "markdown",
      "metadata": {
        "id": "iRsQ1r9OjgXL",
        "colab_type": "text"
      },
      "source": [
        "### As a project contributor"
      ]
    },
    {
      "cell_type": "markdown",
      "metadata": {
        "id": "V27jCQS5U12T",
        "colab_type": "text"
      },
      "source": [
        "#### `fork` other's repository\n",
        "\n",
        "![fork](https://github-images.s3.amazonaws.com/help/bootcamp/Bootcamp-Fork.png)"
      ]
    },
    {
      "cell_type": "markdown",
      "metadata": {
        "id": "0jM80ZNFjP5y",
        "colab_type": "text"
      },
      "source": [
        "#### pull a request\n",
        "\n",
        "at the homepage of the forked page:\n",
        "\n",
        "![contribute](https://github-images.s3.amazonaws.com/help/pull_requests/recently_pushed_branch.png)"
      ]
    },
    {
      "cell_type": "markdown",
      "metadata": {
        "id": "wxND5FNUUvbF",
        "colab_type": "text"
      },
      "source": [
        "#### sync the fork\n",
        "\n",
        "![sync](https://dab1nmslvvntp.cloudfront.net/wp-content/uploads/2016/02/1454964017Screenshot-2016-02-07-12.41.42.png)"
      ]
    },
    {
      "cell_type": "markdown",
      "metadata": {
        "id": "QRGYTMWcjcdW",
        "colab_type": "text"
      },
      "source": [
        "### As a project leader"
      ]
    },
    {
      "cell_type": "markdown",
      "metadata": {
        "id": "JQ7TWzrAVQvl",
        "colab_type": "text"
      },
      "source": [
        "#### Invite other people\n",
        "\n",
        "![invite](https://help.github.com/assets/images/help/repository/repo-settings-collab-autofill.png)"
      ]
    },
    {
      "cell_type": "markdown",
      "metadata": {
        "id": "GpT7Q5WjjW3e",
        "colab_type": "text"
      },
      "source": [
        "#### merge others' pull requests\n",
        "\n",
        "![merge](https://help.github.com/assets/images/help/pull_requests/select-squash-and-merge-from-drop-down-menu.png)"
      ]
    },
    {
      "cell_type": "markdown",
      "metadata": {
        "id": "jOy2XIe9TBAf",
        "colab_type": "text"
      },
      "source": [
        "## Reference\n",
        "\n",
        "[Github Guide](https://guides.github.com/)\n",
        "\n",
        "[QuantEcon: Version control, git and github](https://lectures.quantecon.org/jl/version_control.html)"
      ]
    }
  ]
}