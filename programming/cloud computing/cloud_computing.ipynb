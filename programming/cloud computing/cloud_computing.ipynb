{
 "cells": [
  {
   "cell_type": "markdown",
   "metadata": {
    "colab_type": "text",
    "id": "8GXtj1eumbOB"
   },
   "source": [
    "# Class exercise: Version control in practice\n",
    "\n",
    "*Tuesday 17, September*\n",
    "\n",
    "**Requirements:** Access to the Internet"
   ]
  },
  {
   "cell_type": "markdown",
   "metadata": {
    "colab_type": "text",
    "id": "rg7JFGACk1Gt"
   },
   "source": [
    "## Execrise: Create a project with your partner\n",
    "\n",
    "\n",
    "\n",
    "1.   create a repository\n",
    "2.   create a txt file with your name in it\n",
    "3.   commit the txt file\n",
    "4.   the partner fork your repository\n",
    "5.   the partner add his/her name to the file\n",
    "6.   the partner commit the txt file and pull the request\n",
    "7.   merge the request\n",
    "\n"
   ]
  },
  {
   "cell_type": "markdown",
   "metadata": {
    "colab_type": "text",
    "id": "TdwNJq7TzXpB"
   },
   "source": [
    "## Using `git` command\n",
    "\n",
    "Why command lines?\n",
    "\n",
    "\n",
    "\n",
    "*   sometimes the GitHub desktop is not available: linux system, cloud computing platform\n",
    "*   programming on the virtual machine, server, etc\n",
    "\n",
    "\n",
    "### Getting & Creating Projects\n",
    "\n",
    "| Command | Description |\n",
    "| ------- | ----------- |\n",
    "| `git init` | Initialize a local Git repository |\n",
    "| `git clone ssh://git@github.com/[username]/[repository-name].git` | Create a local copy of a remote repository |\n",
    "\n",
    "### Basic Snapshotting\n",
    "\n",
    "| Command | Description |\n",
    "| ------- | ----------- |\n",
    "| `git status` | Check status |\n",
    "| `git add [file-name.txt]` | Add a file to the staging area |\n",
    "| `git add -A` | Add all new and changed files to the staging area |\n",
    "| `git commit -m \"[commit message]\"` | Commit changes |\n",
    "| `git rm -r [file-name.txt]` | Remove a file (or folder) |\n",
    "\n",
    "### Branching & Merging\n",
    "\n",
    "| Command | Description |\n",
    "| ------- | ----------- |\n",
    "| `git branch` | List branches (the asterisk denotes the current branch) |\n",
    "| `git branch -a` | List all branches (local and remote) |\n",
    "| `git branch [branch name]` | Create a new branch |\n",
    "| `git branch -d [branch name]` | Delete a branch |\n",
    "| `git push origin --delete [branch name]` | Delete a remote branch |\n",
    "| `git checkout -b [branch name]` | Create a new branch and switch to it |\n",
    "| `git checkout -b [branch name] origin/[branch name]` | Clone a remote branch and switch to it |\n",
    "| `git checkout [branch name]` | Switch to a branch |\n",
    "| `git checkout -` | Switch to the branch last checked out |\n",
    "| `git checkout -- [file-name.txt]` | Discard changes to a file |\n",
    "| `git merge [branch name]` | Merge a branch into the active branch |\n",
    "| `git merge [source branch] [target branch]` | Merge a branch into a target branch |\n",
    "| `git stash` | Stash changes in a dirty working directory |\n",
    "| `git stash clear` | Remove all stashed entries |\n",
    "\n",
    "### Sharing & Updating Projects\n",
    "\n",
    "| Command | Description |\n",
    "| ------- | ----------- |\n",
    "| `git push origin [branch name]` | Push a branch to your remote repository |\n",
    "| `git push -u origin [branch name]` | Push changes to remote repository (and remember the branch) |\n",
    "| `git push` | Push changes to remote repository (remembered branch) |\n",
    "| `git push origin --delete [branch name]` | Delete a remote branch |\n",
    "| `git pull` | Update local repository to the newest commit |\n",
    "| `git pull origin [branch name]` | Pull changes from remote repository |\n",
    "| `git remote add origin ssh://git@github.com/[username]/[repository-name].git` | Add a remote repository |\n",
    "| `git remote set-url origin ssh://git@github.com/[username]/[repository-name].git` | Set a repository's origin branch to SSH |\n",
    "\n",
    "### Inspection & Comparison\n",
    "\n",
    "| Command | Description |\n",
    "| ------- | ----------- |\n",
    "| `git log` | View changes |\n",
    "| `git log --summary` | View changes (detailed) |\n",
    "| `git diff [source branch] [target branch]` | Preview changes before merging |\n",
    "\n"
   ]
  },
  {
   "cell_type": "markdown",
   "metadata": {
    "colab_type": "text",
    "id": "3UVZaZpPaTgM"
   },
   "source": [
    "# Online/cloud computing resources"
   ]
  },
  {
   "cell_type": "markdown",
   "metadata": {
    "colab_type": "text",
    "id": "1gxyzxRmenLb"
   },
   "source": [
    "## Why could computing?\n",
    "\n",
    "\n",
    "*   Personal Compute cannot meet the computation demands\n",
    "*   Do want to buy the expansive CPU, GPU, etc.\n",
    "*   colaborative working\n",
    "\n"
   ]
  },
  {
   "cell_type": "markdown",
   "metadata": {
    "colab_type": "text",
    "id": "GpAKEN1cffy-"
   },
   "source": [
    "## Cloud computing platforms\n",
    "\n",
    "\n",
    "\n",
    "*   Google Cloud Platform\n",
    "*   Amazon Web Service\n",
    "\n"
   ]
  },
  {
   "cell_type": "markdown",
   "metadata": {
    "colab_type": "text",
    "id": "Lyt8C0m-fINZ"
   },
   "source": [
    "# Google Cloud Platform\n",
    "\n",
    "In this class, we are going to learn how to set up Google Cloud Platform (GCP) and perform some simple tasks.\n",
    "Please make sure that you get everything to work, as we will use GCP at various points during the course.\n",
    "\n",
    "First, we will look at some basic commands to use the GCP.\n",
    "Then, we will set up a Dataproc cluster. A Dataproc cluster is Google's name for a user-friendly platform for data processing, analytics and machine learning.\n",
    "Finally, we will learn how to run a jupyter notebook on this cluster.\n"
   ]
  },
  {
   "cell_type": "markdown",
   "metadata": {
    "colab_type": "text",
    "id": "gRaQA0izhlbh"
   },
   "source": [
    "## 1. Preparation\n",
    "In this section we will look into setting up a remote cluster using the Google Cloud Platform.\n",
    "Similar functionality is also available through other Infrastructure-as-a-Service providers, such as Amazon Web Services and Microsoft Azure.\n",
    "\n",
    "GCP can be accessed via the Google Cloud Console (in your favourite browser) and through Google Cloud SDK, a command-line interface for GCP. Please make sure you can access the Google Cloud Console and install the Google Cloud SDK on your computer.\n",
    "\n",
    "**Are we sure we want to make people install the Google Cloud SDK?**"
   ]
  },
  {
   "cell_type": "markdown",
   "metadata": {
    "colab_type": "text",
    "id": "ubyC02TtiK5i"
   },
   "source": [
    "### Google Cloud Console\n",
    "Google Cloud Console is a web user-interface for GCP, for configuring and using various services and monitoring usage activity.\n",
    "You can access Google Cloud Console here: https://console.cloud.google.com. You will need to register with your Google account (if you have one). Registering give you access to a 12-month free trial, with $300 worth of computing credit.\n",
    "\n",
    " ![alt text](https://raw.githubusercontent.com/lse-st446/lectures2019/master/week01/class/figs/gcp.png?token=AGU4ZEJKEGHASOCG2O3I2R25JVZRS)"
   ]
  },
  {
   "cell_type": "markdown",
   "metadata": {
    "colab_type": "text",
    "id": "8Fu2N8wNiNhk"
   },
   "source": [
    "### Google Cloud SDK\n",
    "Google Cloud SDK (Software Development Kit) is a command line tool that allows you to manage resources and services hosted on GCP.\n",
    "For example, you may list, copy, remove files using `gsutil ls`, `gsutil cp`, `gsutil rm`, respectively.\n",
    "Please check out this more detailed [overview](https://cloud.google.com/sdk/docs/overview).\n",
    "\n",
    "You need to install Google Cloud SDK before using it. Please follow the [installation instructions](https://cloud.google.com/sdk/docs/quickstarts). Once you have installed it (and your google cloud account is set up), make sure to run the provided examples to check that your installation is running as it should be.\n",
    "\n",
    "(You might need to use Python 2.7 to install Google Cloud SDK on your computer. In Anaconda, you can set up an environment for this, through `conda create -n py27 python=2.7 anaconda`, without uninstalling other versions of python. Anaconda will let you switch between environments.)\n",
    "\n",
    "Once Google Cloud SDK is installed, you can get basic information about your configuration using the terminal/command line command:\n",
    "```\n",
    "gcloud config list\n",
    "```\n",
    "Note: You will need to be in either in the folder where gcloud resides or have the directory path where gcloud is located added to PATH environment variable.\n",
    "\n",
    "Example output:\n",
    "```\n",
    "LSE021353:~ vojnovic$ gcloud config list\n",
    "[core]\n",
    "account = milanvojnov@gmail.com\n",
    "disable_usage_reporting = True\n",
    "project = integral-linker-185619\n",
    "\n",
    "Your active configuration is: [default]\n",
    "```"
   ]
  },
  {
   "cell_type": "markdown",
   "metadata": {
    "colab_type": "text",
    "id": "IapRbjK3hqId"
   },
   "source": [
    "## 2. Upload and download files into GCP\n",
    "\n",
    "A bucket works very similarly to a regular directory/folder on your computer.\n",
    "\n",
    "In order to upload and download files, we first need to create a bucket and then upload and download the files to/from the bucket.\n",
    "This can be done using either Google Cloud Console or Google Cloud SDK.\n",
    "We provide you with resources on how to do it in Google Cloud Console and provide you with the code for Google Cloud SDK."
   ]
  },
  {
   "cell_type": "markdown",
   "metadata": {
    "colab_type": "text",
    "id": "YquixOe7iW0N"
   },
   "source": [
    "### Google Cloud Console approach:\n",
    "\n",
    "* Create bucket: https://cloud.google.com/storage/docs/creating-buckets\n",
    "* Upload, download and delete a file: https://cloud.google.com/storage/docs/object-basics"
   ]
  },
  {
   "cell_type": "markdown",
   "metadata": {
    "colab_type": "text",
    "id": "bvKEUwOMibSB"
   },
   "source": [
    "### Google Cloud SDK approach:\n",
    "All the commands are very similar to the usual commands you use in a command line interface of your Mac/Linux computer.\n",
    "\n",
    "For Windows system, once you have installed Google Cloud SDK, a 'Google Cloud SDK shell' will appear on desktop or start menu.\n",
    "Use this one instead of Powershell or command line prompt.\n",
    "\n",
    "* See what buckets you have:\n",
    "\n",
    "```\n",
    "gsutil ls\n",
    "```\n",
    "* Create a bucket (change `my-bucket` to your own bucket name):\n",
    "\n",
    "```\n",
    "gsutil mb gs://my-bucket/\n",
    "```\n",
    "Example:\n",
    "```\n",
    "LSE021353:~ vojnovic$ gsutil mb gs://my-bucket-01/\n",
    "Creating gs://my-bucket-01/...\n",
    "```\n",
    "See [here](https://cloud.google.com/storage/docs/gsutil/commands/mb) for more on creating buckets.\n",
    "\n",
    "Once your bucket is created, you should be able to see it in the Google Cloud Console:\n",
    "\n",
    "![alt text](https://raw.githubusercontent.com/lse-st446/lectures2019/master/week01/class/figs/gcp-bucket0.png?token=AGU4ZEJCS4SJPSMVMZI3SPK5JVZRS)\n",
    "\n",
    "Here are some details about the created bucket:\n",
    "\n",
    "![alt text](https://raw.githubusercontent.com/lse-st446/lectures2019/master/week01/class/figs/gcp-bucket.png?token=AGU4ZENF2LFC2NLAOZMO5WC5JVZRS)\n",
    "\n",
    "\n",
    "\n",
    "* Upload a file:\n",
    "You can get the helloworld.py [here](helloworld.py)\n",
    "```\n",
    "gsutil cp helloworld.py gs://my-bucket\n",
    "```\n",
    "\n",
    "Example:\n",
    "```\n",
    "LSE021353:files vojnovic$ gsutil cp helloworld.py gs://my-bucket-01\n",
    "Copying file://helloworld.py [Content-Type=text/x-python]...\n",
    "\\ [1 files][  147.0 B/  147.0 B]                                                \n",
    "Operation completed over 1 objects/147.0 B.                    \n",
    "```\n",
    "\n",
    "You can check if your file has been uploaded by checking what's inside your bucket:\n",
    "```\n",
    "gsutil ls gs://my-bucket\n",
    "```\n",
    "\n",
    "Example:\n",
    "```\n",
    "LSE021353:files vojnovic$ gsutil ls gs://my-bucket-01\n",
    "gs://my-bucket-01/helloworld.py\n",
    "```\n",
    "\n",
    "* Download a file:\n",
    "\n",
    "```\n",
    "gsutil cp gs://my-bucket/helloworld.py Desktop\n",
    "```\n",
    "* Remove a file:\n",
    "\n",
    "```\n",
    "gsutil rm gs://my-bucket/helloworld.py\n",
    "```\n",
    "(You may not want to do this until the end of the exercise.)\n",
    "* Remove the whole bucket:\n",
    "\n",
    "```\n",
    "gsutil rm -r gs://my-bucket\n",
    "```\n",
    "(You may not want to do this until the end of the exercise.)\n",
    "\n",
    "Example:\n",
    "\n",
    "```\n",
    "LSE021353:files vojnovic$ gsutil rm -r gs://my-bucket-01\n",
    "Removing gs://my-bucket-01/helloworld.py#1515399609789091...\n",
    "Removing gs://my-bucket-01/google-cloud-dataproc-metainfo/646f3404-0769-4f92-9809-333074bbb661/cluster.properties#1515399984493936...\n",
    "Removing gs://my-bucket-01/google-cloud-dataproc-metainfo/646f3404-0769-4f92-9809-333074bbb661/my-cluster-01-m/dataproc-initialization-script-0_output#1515400127345120...\n",
    "Removing gs://my-bucket-01/google-cloud-dataproc-metainfo/646f3404-0769-4f92-9809-333074bbb661/my-cluster-01-m/dataproc-startup-script_output#1515400044457041...\n",
    "/ [4 objects]                                                                   \n",
    "==> NOTE: You are performing a sequence of gsutil operations that may\n",
    "run significantly faster if you instead use gsutil -m -o ... Please\n",
    "see the -m section under \"gsutil help options\" for further information\n",
    "about when gsutil -m can be advantageous.\n",
    "\n",
    "Removing gs://my-bucket-01/google-cloud-dataproc-metainfo/646f3404-0769-4f92-9809-333074bbb661/my-cluster-01-w-0/dataproc-initialization-script-0_output#1515400027778604...\n",
    "Removing gs://my-bucket-01/google-cloud-dataproc-metainfo/646f3404-0769-4f92-9809-333074bbb661/my-cluster-01-w-0/dataproc-startup-script_output#1515400015951859...\n",
    "Removing gs://my-bucket-01/google-cloud-dataproc-metainfo/646f3404-0769-4f92-9809-333074bbb661/my-cluster-01-w-1/dataproc-initialization-script-0_output#1515400029415869...\n",
    "Removing gs://my-bucket-01/google-cloud-dataproc-metainfo/646f3404-0769-4f92-9809-333074bbb661/my-cluster-01-w-1/dataproc-startup-script_output#1515400015954649...\n",
    "/ [8 objects]                                                                   \n",
    "Operation completed over 8 objects.                                              \n",
    "Removing gs://my-bucket-01/...\n",
    "\n",
    "```\n",
    "\n",
    "\n",
    "Reference: https://cloud.google.com/storage/docs/quickstart-gsutil"
   ]
  },
  {
   "cell_type": "markdown",
   "metadata": {
    "colab_type": "text",
    "id": "yolQTwCIhwy1"
   },
   "source": [
    "## 3. Running jobs on a Google Cloud dataproc cluster\n",
    "In this section, we set up a new dataproc cluster, run some pyspark code, and delete the cluster.\n",
    "\n",
    "Google Cloud Dataproc is a managed Apache Spark and Apache Hadoop service. It allows you to run Apache Spark and Apache Hadoop clusters on GCP. You may find more information [in the documentation](https://cloud.google.com/dataproc/docs/).\n",
    "\n",
    "In the following, we show you how to set up a cluster on Google Cloud Dataproc and run a Pyspark job on this cluster.\n",
    "You can also create a cluster via Google Cloud Console. You should be able to do this yourself by following the references at the end of this document."
   ]
  },
  {
   "cell_type": "markdown",
   "metadata": {
    "colab_type": "text",
    "id": "-U2LFsHXiiOc"
   },
   "source": [
    "### 3a. Create and delete a Google Cloud dataproc cluster\n",
    "\n",
    "1\\. Create cluster\n",
    "\n",
    "Use the following command to set up a cluster.\n",
    "\n",
    "You should set `<projectid>` to your own `projectid` and `<bucket id>` to the ones you created in Section 2. You can choose your own `<clustername>`.\n",
    "\n",
    "```\n",
    "gcloud dataproc clusters create <clustername> --project <projectid> --bucket <bucketname>\n",
    "```\n",
    "\n",
    "Example:\n",
    "\n",
    "```\n",
    "LSE021353:files vojnovic$ gcloud dataproc clusters create my-cluster-01 --project integral-linker-185619 --bucket my-bucket-01 --initialization-actions gs://dataproc-initialization-actions/jupyter/jupyter.sh\n",
    "For the following cluster:\n",
    " - [my-cluster-01]\n",
    "choose a zone:\n",
    " [1] asia-east1-a\n",
    " [2] asia-east1-b\n",
    " [3] asia-east1-c\n",
    " [4] asia-northeast1-a\n",
    " [5] asia-northeast1-b\n",
    " [6] asia-northeast1-c\n",
    " [7] asia-south1-a\n",
    " [8] asia-south1-b\n",
    " [9] asia-south1-c\n",
    " [10] asia-southeast1-a\n",
    " [11] asia-southeast1-b\n",
    " [12] australia-southeast1-a\n",
    " [13] australia-southeast1-b\n",
    " [14] australia-southeast1-c\n",
    " [15] europe-west1-b\n",
    " [16] europe-west1-c\n",
    " [17] europe-west1-d\n",
    " [18] europe-west2-a\n",
    " [19] europe-west2-b\n",
    " [20] europe-west2-c\n",
    " [21] europe-west3-a\n",
    " [22] europe-west3-b\n",
    " [23] europe-west3-c\n",
    " [24] southamerica-east1-a\n",
    " [25] southamerica-east1-b\n",
    " [26] southamerica-east1-c\n",
    " [27] us-central1-a\n",
    " [28] us-central1-b\n",
    " [29] us-central1-c\n",
    " [30] us-central1-f\n",
    " [31] us-east1-b\n",
    " [32] us-east1-c\n",
    " [33] us-east1-d\n",
    " [34] us-east4-a\n",
    " [35] us-east4-b\n",
    " [36] us-east4-c\n",
    " [37] us-west1-a\n",
    " [38] us-west1-b\n",
    " [39] us-west1-c\n",
    "Please enter your numeric choice:  31\n",
    "\n",
    "Waiting on operation [projects/integral-linker-185619/regions/global/operations/159ff2e2-c2ee-4552-a4ed-48060fc36956].\n",
    "Waiting for cluster creation operation...done.                                 \n",
    "Created [https://dataproc.googleapis.com/v1/projects/integral-linker-185619/regions/global/clusters/my-cluster-01] Cluster placed in zone [us-east1-b].\n",
    "```\n",
    "\n",
    "Again, once the cluster is created, you can see it in the Google Cloud Console:\n",
    "\n",
    "![alt text](https://raw.githubusercontent.com/lse-st446/lectures2019/master/week01/class/figs/gcp-cluster0.png?token=AGU4ZELSE2G42AAIZ3K2J7C5JVZRS)\n",
    "\n",
    "Here are some details about the cluster nodes:\n",
    "\n",
    "![alt text](https://raw.githubusercontent.com/lse-st446/lectures2019/master/week01/class/figs/gcp-cluster.png?token=AGU4ZEKIJ2F4QBYC47ZBGSK5JVZRS)\n",
    "\n",
    "\n",
    "Here are some further details about the master node:\n",
    "\n",
    "![alt text](https://raw.githubusercontent.com/lse-st446/lectures2019/master/week01/class/figs/gcp-cluster-master.png?token=AGU4ZEOJDVK4C45S3KGU7LK5JVZRS)"
   ]
  },
  {
   "cell_type": "markdown",
   "metadata": {
    "colab_type": "text",
    "id": "4ZYo7G_ZilVE"
   },
   "source": [
    "### 3b. Submit a job\n",
    "\n",
    "Once you have your cluster ready, you can submit your job using `job submit` command. Here we submit a simple hello world PySpark job.\n",
    "```\n",
    "gcloud dataproc jobs submit pyspark --cluster <clustername> helloworld.py\n",
    "```\n",
    "(Don't worry about the details yet, we will re-visit `helloworld.py`.)"
   ]
  },
  {
   "cell_type": "markdown",
   "metadata": {
    "colab_type": "text",
    "id": "6HFHabd7ioKA"
   },
   "source": [
    "### 3c. Delete a cluster\n",
    "\n",
    "You may delete you cluster as follows. Once you have deleted your cluster, make sure also to delete your bucket, so that we don't waste our allocated credit.\n",
    "```\n",
    "gcloud dataproc clusters delete <clustername>\n",
    "```\n",
    "\n",
    "Example:\n",
    "```\n",
    "LSE021353:files vojnovic$ gcloud dataproc clusters delete my-cluster-01\n",
    "The cluster 'my-cluster-01' and all attached disks will be deleted.\n",
    "\n",
    "Do you want to continue (Y/n)?  y\n",
    "\n",
    "Waiting on operation [projects/integral-linker-185619/regions/global/operations/ef21874e-3863-46a0-aa2d-c030c51e8750].\n",
    "Waiting for cluster deletion operation...done.                                 \n",
    "Deleted [https://dataproc.googleapis.com/v1/projects/integral-linker-185619/regions/global/clusters/my-cluster-01].\n",
    "```\n",
    "\n",
    "Delete the bucket using\n",
    "```\n",
    "gsutil rm -r gs://<bucket_name>\n",
    "```"
   ]
  },
  {
   "cell_type": "markdown",
   "metadata": {
    "colab_type": "text",
    "id": "wiGJ6rqzh4EF"
   },
   "source": [
    "## 4. Running Jupyter notebooks on Google Cloud Dataproc clusters\n",
    "\n",
    "In this section, we will set up a dataproc cluster for PySpark and connect it to a Jupyter notebook.\n",
    "Please try to get it to run by next week.\n",
    "\n",
    "If you have difficulties setting it up, please get in contact with the teaching assistant.\n",
    "\n",
    "The following instructions worked for me on MacOS with chrome, when ignoring all the warnings that chrome yields:\n",
    "https://cloud.google.com/dataproc/docs/tutorials/jupyter-notebook\n",
    "\n",
    "Windows and Linux have slightly different syntax, please refer to the first link in the reference for the correct setup on your own machine."
   ]
  },
  {
   "cell_type": "markdown",
   "metadata": {
    "colab_type": "text",
    "id": "STbwIdZSitQG"
   },
   "source": [
    "### 4a. Create a cluster on which to run Jupyter notebook\n",
    "This is very similar to what we have done in Section 3b, except that we add the argument `-initialization-actions gs://dataproc-initialization-actions/jupyter/jupyter.sh`.\n",
    "\n",
    "\n",
    "```\n",
    "gcloud dataproc clusters create <clustername> --project <projectid> --bucket <bucketname> --initialization-actions gs://dataproc-initialization-actions/jupyter/jupyter.sh\n",
    "```\n",
    "\n",
    "This should yield something like, e.g.,\n",
    "```\n",
    "Created [https://dataproc.googleapis.com/v1/projects/<project-name>/regions/global/clusters/<clustername>] Cluster placed in zone [europe-west2-c].\n",
    "```"
   ]
  },
  {
   "cell_type": "markdown",
   "metadata": {
    "colab_type": "text",
    "id": "FLRjVfHkiwCx"
   },
   "source": [
    "### 4b. Set up a ssh channel:\n",
    "\n",
    "Replace the `<clustername>` with the name you set for your cluster and `<region>` to a suitable region:\n",
    "```\n",
    "gcloud compute ssh --zone=<region> --ssh-flag=\"-D\" --ssh-flag=\"10000\" --ssh-flag=\"-N\" --ssh-flag=\"-n\" \"<clustername>-m\" &\n",
    "```\n",
    "\n",
    "For me (Simon), the following worked\n",
    "```\n",
    "gcloud compute --project \"<project-name>\" ssh --zone \"europe-west2-c\" \"<cluster-name>-m\" &\n",
    "```\n",
    "(Also try this command without the trailing `&`. In that way, you will get access to a command line on a remote machine on which you can run commands. You can exit it by using the command `exit`.)"
   ]
  },
  {
   "cell_type": "markdown",
   "metadata": {
    "colab_type": "text",
    "id": "rwr1uDTuiyjA"
   },
   "source": [
    "### 4c. Configure your browser to run a jupyter notebook GUI:\n",
    "```\n",
    "/Applications/Google\\ Chrome.app/Contents/MacOS/Google\\ Chrome http://<clustername>-m:8123 --proxy-server=\"socks5://localhost:10000\" --host-resolver-rules=\"MAP * 0.0.0.0 , EXCLUDE localhost\" --user-data-dir=/tmp/\n",
    "```\n",
    "For other browsers, you will need to figure this out in detail. Check out https://cloud.google.com/dataproc/docs/tutorials/jupyter-notebook and links therein for details. It is highly recommended that you follow the instructions on this website.\n",
    "\n",
    "The following worked for me (Simon, cf. https://cloud.google.com/dataproc/docs/concepts/accessing/cluster-web-interfaces#create_an_ssh_tunnel):\n",
    "\n",
    "```\n",
    "export PORT=8123\n",
    "export HOSTNAME=<cluster-name>-m\n",
    "export PROJECT=\"project-simon\"\n",
    "export ZONE=\"europe-west2-c\"\n",
    "\n",
    "gcloud compute ssh ${HOSTNAME} \\\n",
    "    --project=${PROJECT} --zone=${ZONE}  -- \\\n",
    "    -D ${PORT} -N &\n",
    "\n",
    "\"/Applications/Google Chrome.app/Contents/MacOS/Google Chrome\" \\\n",
    "      --proxy-server=\"socks5://localhost:${PORT}\" \\\n",
    "      --user-data-dir=/tmp/${HOSTNAME}\n",
    "```\n",
    "\n",
    "Now you can open a Jupyter notebook, write your code and run it.\n",
    "Below is a short list of available ports:\n",
    "\n",
    "Web UI                 |\tPort\t| URL\n",
    "-----------------------|--------|----\n",
    "Jupyter Notebook       | 8123   | http://master-host-name:8123 i.e., in practice http://cluster-name-m:8123\n",
    "YARN ResourceManager\t | 8088\t  |  http://master-host-name:8088\n",
    "HDFS NameNode\t         | 9870*\t| http://master-host-name:9870"
   ]
  },
  {
   "cell_type": "markdown",
   "metadata": {
    "colab_type": "text",
    "id": "IaBkwu40iBOi"
   },
   "source": [
    "# References\n",
    "\n",
    "If you have any difficulties in running the codes above, you can have a look of the following links:\n",
    "\n",
    "* Tutorial: https://cloud.google.com/dataproc/docs/tutorials/jupyter-notebook\n",
    "* https://cloud.google.com/blog/big-data/2017/02/google-cloud-platform-for-data-scientists-using-jupyter-notebooks-with-apache-spark-on-google-cloud\n",
    "* FAQ: https://cloud.google.com/dataproc/docs/resources/faq)\n",
    "* Create cluster: https://cloud.google.com/dataproc/docs/guides/create-cluster\n",
    "* Submit jobs: https://cloud.google.com/dataproc/docs/guides/submit-job\n",
    "* Using the Python Client Library: https://cloud.google.com/dataproc/docs/tutorials/python-library-example\n",
    "* Initialization actions: https://cloud.google.com/dataproc/docs/concepts/configuring-clusters/init-actions and https://github.com/GoogleCloudPlatform/dataproc-initialization-actions"
   ]
  }
 ],
 "metadata": {
  "colab": {
   "collapsed_sections": [],
   "name": "vc-part2-oc.ipynb",
   "provenance": [],
   "toc_visible": true,
   "version": "0.3.2"
  },
  "kernelspec": {
   "display_name": "Python 3",
   "language": "python",
   "name": "python3"
  },
  "language_info": {
   "codemirror_mode": {
    "name": "ipython",
    "version": 3
   },
   "file_extension": ".py",
   "mimetype": "text/x-python",
   "name": "python",
   "nbconvert_exporter": "python",
   "pygments_lexer": "ipython3",
   "version": "3.7.3"
  }
 },
 "nbformat": 4,
 "nbformat_minor": 1
}
