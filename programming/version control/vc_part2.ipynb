{
 "cells": [
  {
   "cell_type": "markdown",
   "metadata": {},
   "source": [
    "# Class exercise: Using GitHub\n",
    "\n",
    "*Monday 16, September*\n",
    "\n",
    "\n",
    "\n",
    "**Requirements:** Access to the Internet"
   ]
  },
  {
   "cell_type": "markdown",
   "metadata": {},
   "source": [
    "In this class exercise, we will create our first repository, create a working branch, commit some changes in it, and merge them back to the master branch.\n",
    "\n",
    "\n",
    "**Not sure the text below need to be kept, given that we have already given a thorough introduction in the last Notebook. Jialin, you decide what to do with this.**\n",
    "\n",
    "*Git* is a version control tool developed by Linus Torvalds, initially released in 2005.\n",
    "*Git* allows:\n",
    "\n",
    "*   labeling, recording and reversing any changes in the files\n",
    "*   managing the project in a collaborative working environment\n",
    "\n",
    "![Git](https://ma.ttias.be/wp-content/uploads/2015/12/git_push_deploy.png)"
   ]
  },
  {
   "cell_type": "markdown",
   "metadata": {},
   "source": [
    "### 1. Online interactive git platforms and clients\n",
    "\n",
    "For this class exercise, we will work from GitHub's website. This will make the exposition [JB: I'm unclear what you mean here but suspect this needs to be rewritten if you're having them use Desktop] clearer, and you will not need to install any software on your machines. We will not be using Git directly from the command line either, as this is beyond the scope of this course, and not very useful for social scientists.\n",
    "\n",
    "When you work on actual research projects, you may find it more convenient to use the GitHub desktop app. GitHub Desktop allows you to download a local copy of the repository directly to your machine, work from here, and pull your changes from your computer when you're done. The editing functionality available in GitHub's website are rather limited and your needs will quickly grow beyond what the website can offer. Moreover, the desktop app offers the same communication and code comparison tools as the website, plus much more. For your future reference, we have added the installation videos below.\n",
    "\n",
    "**Jialin, maybe you can add a line or two about the usefulness of using GitHub through the command line. I don't know much about it**"
   ]
  },
  {
   "cell_type": "code",
   "execution_count": 2,
   "metadata": {},
   "outputs": [
    {
     "data": {
      "image/jpeg": "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\n",
      "text/html": [
       "\n",
       "        <iframe\n",
       "            width=\"400\"\n",
       "            height=\"300\"\n",
       "            src=\"https://www.youtube.com/embed/qtxWg3kOnd0\"\n",
       "            frameborder=\"0\"\n",
       "            allowfullscreen\n",
       "        ></iframe>\n",
       "        "
      ],
      "text/plain": [
       "<IPython.lib.display.YouTubeVideo at 0x5485898>"
      ]
     },
     "execution_count": 2,
     "metadata": {},
     "output_type": "execute_result"
    }
   ],
   "source": [
    "# Windows\n",
    "from IPython.display import YouTubeVideo\n",
    "YouTubeVideo('qtxWg3kOnd0')"
   ]
  },
  {
   "cell_type": "code",
   "execution_count": 3,
   "metadata": {},
   "outputs": [
    {
     "data": {
      "image/jpeg": "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\n",
      "text/html": [
       "\n",
       "        <iframe\n",
       "            width=\"400\"\n",
       "            height=\"300\"\n",
       "            src=\"https://www.youtube.com/embed/ci3W1T88mzw\"\n",
       "            frameborder=\"0\"\n",
       "            allowfullscreen\n",
       "        ></iframe>\n",
       "        "
      ],
      "text/plain": [
       "<IPython.lib.display.YouTubeVideo at 0x54a2f28>"
      ]
     },
     "execution_count": 3,
     "metadata": {},
     "output_type": "execute_result"
    }
   ],
   "source": [
    "# Mac OS X\n",
    "from IPython.display import YouTubeVideo\n",
    "YouTubeVideo('ci3W1T88mzw')"
   ]
  },
  {
   "cell_type": "markdown",
   "metadata": {},
   "source": [
    "Unfortunately, Github doesn't provide an official client for the Linux system; a good substitute is [Gitkraken](https://www.gitkraken.com/)[JB: I start getting confused by the layout at this point. You may need a heading or something here to indicate that what follows is a list of lists to VC tools and images of their interfaces]\n",
    "\n",
    "![Interface of GitKraken](https://www.gitkraken.com/img/misc/gitkraken.gif)\n",
    "\n",
    "###  [Gitlab](https://about.gitlab.com/)\n",
    "\n",
    "![Gitlab](https://miro.medium.com/max/700/1*0pTgaiHFknWZpv4FUnUQPA.png)\n",
    "\n",
    "###  [Bitbucket](https://bitbucket.org/product)\n",
    "![Bitbucket](https://upload.wikimedia.org/wikipedia/commons/3/32/Atlassian_Bitbucket_Logo.png)"
   ]
  },
  {
   "cell_type": "markdown",
   "metadata": {},
   "source": [
    
    "### [Github: our choice for this course](https://github.com/)\n",
    "![Github](https://miro.medium.com/max/700/1*aFHTAkhTkyWD93-UGRttPw.png)\n",
    "\n",
    "**1.1. Creating a GitHub student account** [JB: from here on, I am again confused. Is this intended to just be a series of screenshots? Or is this instructive? If instructive, it needs more text. If just a series of screenshots and links, how will the students be led through it and how do you keep them from jumping ahead? I have reformatted the info below based on what I think you're trying to do]\n",
    "\n",
    "To create a github account:\n",
    "1. Visit Github.com and click **Sign up**\n",
    "![create an account](https://discourse-user-assets.s3.dualstack.us-east-1.amazonaws.com/optimized/3X/7/8/784510577177dae83a1e6d63726386a4f2d0fea2_2_690x388.png)\n",
    "\n",
    "**Tip:** Link it with your university email. By doing so, you get additional benefits like \n",
    "* unlimited private repos\n",
    "* access to really cool text editors like Atom\n",
    "* access to Cloud computing ressources such as Amazon's AWS and Microsoft's Azure\n",
    "\n",
    "![Student Developer Pack](https://dzone.com/storage/temp/2204421-github-student-pack.png)"
   ]
  },
  {
   "cell_type": "markdown",
   "metadata": {},
   "source": [
    "**1.2. Basic concepts (review)**\n",
    "\n",
    "### Repository\n",
    "\n",
    "> A repository is like a folder for your project. Your project's repository contains all of your project's files and stores each file's revision history. You can also discuss and manage your project's work within the repository.\n",
    "\n",
    "\n",
    "A typical repository on the Github looks like: https://github.com/amplab/spark-ec2\n",
    "\n",
    "![repo](https://static.packt-cdn.com/products/9781785889271/graphics/image_01_010.jpg)\n",
    "\n",
    "## Using `git`{JB: Is this git or GitHub?] to manage a personal project\n",
    "\n",
    "### To create a repository, see:\n"
    "https://help.github.com/en/articles/create-a-repo\n",
    "\n",
    "![create](https://help.github.com/assets/images/help/repository/create-repository-public-private.png)"
   ]
  },
  {
   "cell_type": "markdown",
   "metadata": {},
   "source": [
    "### To clone a repository, see:\n",
    "https://help.github.com/en/articles/cloning-a-repository\n",
    "\n",
    "![clone](https://help.github.com/assets/images/help/repository/clone-repo-clone-url-button.png)"
   ]
  },
  {
   "cell_type": "markdown",
   "metadata": {},
   "source": [
    "### To make a branch, see: \n",
    "![branch](https://guides.github.com/activities/hello-world/readme-edits.gif)"
   ]
  },
  {
   "cell_type": "markdown",
   "metadata": {},
   "source": [
    "### To commit a change, see:\n",
    "![commit](https://www.hibbittsdesign.org/blog/user/pages/01.posts/2016-04-04-using-github-desktop-and-gitlab-with-Grav/github-desktop-first-commit.png)"
   ]
  },
  {
   "cell_type": "markdown",
   "metadata": {},
   "source": [
    "### To revert a change, see:\n",
    "https://help.github.com/en/desktop/contributing-to-projects/reverting-a-commit\n",
    "\n",
    "![revert](https://help.github.com/assets/images/help/desktop/commit-revert-mac.png)"
   ]
  },
  {
   "cell_type": "markdown",
   "metadata": {},
   "source": [
    "### To pull a request, see:\n",
    "![push](https://s3-ap-southeast-2.amazonaws.com/lectures.quantecon.org/jl/_static/figures/git-dropdown.png)"
   ]
  },
  {
   "cell_type": "markdown",
   "metadata": {},
   "source": [
    "### To remove a repository, see:\n",
    "![delete](https://i.stack.imgur.com/VNswx.png)"
   ]
  },
  {
   "cell_type": "markdown",
   "metadata": {},
   "source": [
    "## Using `git` to manage a collaborative project [JB: from here things appear very hard to follow and messy. I would suggest a bit more structuring of the text and images, rather than just a series of headings with screenshots. In my experience, content is easiest ot follow when there is textual instruction accompanied by visual clues. I haven't the experience to fix this section onwards, but the github guides themselves are a good example of how to layout more instructional text - if this is what you're trying to do] \n",
    "\n",
    "### As a project contributor\n",
    "\n",
    "#### `fork` other's repository\n",
    "\n",
    "![fork](https://github-images.s3.amazonaws.com/help/bootcamp/Bootcamp-Fork.png)\n",
    "\n",
    "#### pull a request\n",
    "\n",
    "at the homepage of the forked page:\n",
    "\n",
    "![contribute](https://github-images.s3.amazonaws.com/help/pull_requests/recently_pushed_branch.png)\n",
    "\n",
    "#### sync the fork\n",
    "\n",
    "![sync](https://dab1nmslvvntp.cloudfront.net/wp-content/uploads/2016/02/1454964017Screenshot-2016-02-07-12.41.42.png)\n",
    "\n",
    "### As a project leader\n",
    "\n",
    "#### Invite other people\n",
    "\n",
    "![invite](https://help.github.com/assets/images/help/repository/repo-settings-collab-autofill.png)\n",
    "\n",
    "#### merge others' pull requests\n",
    "\n",
    "![merge](https://help.github.com/assets/images/help/pull_requests/select-squash-and-merge-from-drop-down-menu.png)"
   ]
  },
  {
   "cell_type": "markdown",
   "metadata": {},
   "source": [
    "## Reference\n",
    "\n",
    "[Github Guide](https://guides.github.com/)\n",
    "\n",
    "[QuantEcon: Version control, git and github](https://lectures.quantecon.org/jl/version_control.html)"
   ]
  },
  {
   "cell_type": "code",
   "execution_count": null,
   "metadata": {},
   "outputs": [],
   "source": []
  }
 ],
 "metadata": {
  "kernelspec": {
   "display_name": "Python 3",
   "language": "python",
   "name": "python3"
  },
  "language_info": {
   "codemirror_mode": {
    "name": "ipython",
    "version": 3
   },
   "file_extension": ".py",
   "mimetype": "text/x-python",
   "name": "python",
   "nbconvert_exporter": "python",
   "pygments_lexer": "ipython3",
   "version": "3.7.3"
  }
 },
 "nbformat": 4,
 "nbformat_minor": 2
}
